{
  "nbformat": 4,
  "nbformat_minor": 0,
  "metadata": {
    "colab": {
      "name": "Untitled0.ipynb",
      "provenance": [],
      "include_colab_link": true
    },
    "kernelspec": {
      "name": "python3",
      "display_name": "Python 3"
    },
    "accelerator": "GPU"
  },
  "cells": [
    {
      "cell_type": "markdown",
      "metadata": {
        "id": "view-in-github",
        "colab_type": "text"
      },
      "source": [
        "<a href=\"https://colab.research.google.com/github/adsamardeep/Identify-the-dance-form/blob/master/hackathons/hackerearth_dancer3_vgg19.ipynb\" target=\"_parent\"><img src=\"https://colab.research.google.com/assets/colab-badge.svg\" alt=\"Open In Colab\"/></a>"
      ]
    },
    {
      "cell_type": "code",
      "metadata": {
        "id": "6LxegbibzKA8",
        "colab_type": "code",
        "colab": {
          "base_uri": "https://localhost:8080/",
          "height": 122
        },
        "outputId": "e1e81d1a-7694-4055-e2f8-edc6097ccb27"
      },
      "source": [
        "from google.colab import drive\n",
        "drive.mount('/content/drive')"
      ],
      "execution_count": 1,
      "outputs": [
        {
          "output_type": "stream",
          "text": [
            "Go to this URL in a browser: https://accounts.google.com/o/oauth2/auth?client_id=947318989803-6bn6qk8qdgf4n4g3pfee6491hc0brc4i.apps.googleusercontent.com&redirect_uri=urn%3aietf%3awg%3aoauth%3a2.0%3aoob&response_type=code&scope=email%20https%3a%2f%2fwww.googleapis.com%2fauth%2fdocs.test%20https%3a%2f%2fwww.googleapis.com%2fauth%2fdrive%20https%3a%2f%2fwww.googleapis.com%2fauth%2fdrive.photos.readonly%20https%3a%2f%2fwww.googleapis.com%2fauth%2fpeopleapi.readonly\n",
            "\n",
            "Enter your authorization code:\n",
            "··········\n",
            "Mounted at /content/drive\n"
          ],
          "name": "stdout"
        }
      ]
    },
    {
      "cell_type": "code",
      "metadata": {
        "id": "1bvumDLpAxwx",
        "colab_type": "code",
        "colab": {
          "base_uri": "https://localhost:8080/",
          "height": 34
        },
        "outputId": "f1e4197f-d7fc-461b-dee1-139024b32f55"
      },
      "source": [
        "import numpy as np \n",
        "import pandas as pd \n",
        "import cv2, pickle\n",
        "from PIL import Image \n",
        "import pathlib\n",
        "import matplotlib.pyplot as plt\n",
        "import tensorflow as tf\n",
        "import tensorflow_addons as tfa\n",
        "from tensorflow.keras.applications.vgg19 import VGG19\n",
        "from sklearn.preprocessing import LabelEncoder\n",
        "from keras.utils import np_utils"
      ],
      "execution_count": 2,
      "outputs": [
        {
          "output_type": "stream",
          "text": [
            "Using TensorFlow backend.\n"
          ],
          "name": "stderr"
        }
      ]
    },
    {
      "cell_type": "code",
      "metadata": {
        "id": "X2iWfFGZGJoR",
        "colab_type": "code",
        "colab": {}
      },
      "source": [
        "IMG_WIDTH=224\n",
        "IMG_HEIGHT=224\n",
        "BATCH_SIZE = 15"
      ],
      "execution_count": 0,
      "outputs": []
    },
    {
      "cell_type": "code",
      "metadata": {
        "id": "HLBYVN_WGSWq",
        "colab_type": "code",
        "colab": {}
      },
      "source": [
        "train = pickle.load(open(\"/content/drive/My Drive/HackerEarth/IdentifyDanceForms/train.npy\",'rb'))\n",
        "test = pickle.load(open(\"/content/drive/My Drive/HackerEarth/IdentifyDanceForms/test.npy\",'rb'))\n",
        "train = np.array(train)\n",
        "test = np.array(test)\n",
        "train_data = pd.read_csv(\"/content/drive/My Drive/HackerEarth/IdentifyDanceForms/train.csv\")\n",
        "\n",
        "encoder = LabelEncoder()\n",
        "encoder.fit(train_data[\"target\"])\n",
        "encoded_Y = encoder.transform(train_data[\"target\"])\n",
        "y_labels = np_utils.to_categorical(encoded_Y)"
      ],
      "execution_count": 0,
      "outputs": []
    },
    {
      "cell_type": "code",
      "metadata": {
        "id": "2CREhgQrGVm4",
        "colab_type": "code",
        "colab": {}
      },
      "source": [
        "\n",
        "from tensorflow.keras.models import Model\n",
        "import tensorflow.keras as keras\n",
        "\n",
        "resnet = VGG19(include_top=False, weights='imagenet', input_shape=(IMG_HEIGHT,IMG_WIDTH,3),pooling='max')\n",
        "\n",
        "output = resnet.layers[-1].output\n",
        "output = tf.keras.layers.Flatten()(output)\n",
        "resnet = Model(resnet.input, output)"
      ],
      "execution_count": 0,
      "outputs": []
    },
    {
      "cell_type": "code",
      "metadata": {
        "id": "yy79T4_LGrO5",
        "colab_type": "code",
        "colab": {}
      },
      "source": [
        "for layer in resnet.layers:\n",
        "    layer.trainable = False"
      ],
      "execution_count": 0,
      "outputs": []
    },
    {
      "cell_type": "code",
      "metadata": {
        "id": "JdVLwpveGuVl",
        "colab_type": "code",
        "outputId": "2d096f24-69d8-45e7-b14e-54ff982c9f8d",
        "colab": {
          "base_uri": "https://localhost:8080/",
          "height": 289
        }
      },
      "source": [
        "from tensorflow.keras.models import Sequential\n",
        "from tensorflow.keras.layers import Dense, Flatten, GlobalAveragePooling2D, Dropout\n",
        "\n",
        "num_classes = 8\n",
        "\n",
        "model = Sequential()\n",
        "model.add(resnet)\n",
        "model.add(Dense(1024, activation='relu'))\n",
        "model.add(Dropout(0.5))\n",
        "model.add(Dense(num_classes, activation='softmax'))\n",
        "\n",
        "model.summary()"
      ],
      "execution_count": 18,
      "outputs": [
        {
          "output_type": "stream",
          "text": [
            "Model: \"sequential_1\"\n",
            "_________________________________________________________________\n",
            "Layer (type)                 Output Shape              Param #   \n",
            "=================================================================\n",
            "model_1 (Model)              (None, 512)               20024384  \n",
            "_________________________________________________________________\n",
            "dense_2 (Dense)              (None, 1024)              525312    \n",
            "_________________________________________________________________\n",
            "dropout_1 (Dropout)          (None, 1024)              0         \n",
            "_________________________________________________________________\n",
            "dense_3 (Dense)              (None, 8)                 8200      \n",
            "=================================================================\n",
            "Total params: 20,557,896\n",
            "Trainable params: 533,512\n",
            "Non-trainable params: 20,024,384\n",
            "_________________________________________________________________\n"
          ],
          "name": "stdout"
        }
      ]
    },
    {
      "cell_type": "code",
      "metadata": {
        "id": "-t48y6MiGyh2",
        "colab_type": "code",
        "colab": {}
      },
      "source": [
        "adam = tf.keras.optimizers.Adam(learning_rate=0.0001)\n",
        "\n",
        "early_stop = tf.keras.callbacks.EarlyStopping(monitor='val_loss', patience=10,\n",
        "                                              restore_best_weights=False\n",
        "                                              )\n",
        "\n",
        "\n",
        "reduce_lr = tf.keras.callbacks.ReduceLROnPlateau(monitor='val_loss',\n",
        "                                   factor=0.3,\n",
        "                                   patience=5,\n",
        "                                   verbose=1,\n",
        "                                   min_delta=1e-3,min_lr = 1e-7,\n",
        "                                   )"
      ],
      "execution_count": 0,
      "outputs": []
    },
    {
      "cell_type": "code",
      "metadata": {
        "id": "CRq5pfC2G1bs",
        "colab_type": "code",
        "colab": {}
      },
      "source": [
        "model.compile(optimizer = adam, \n",
        "              loss = 'categorical_crossentropy', \n",
        "              metrics=['accuracy',tfa.metrics.F1Score(num_classes=num_classes)])"
      ],
      "execution_count": 0,
      "outputs": []
    },
    {
      "cell_type": "code",
      "metadata": {
        "id": "GeHcEJEF7U7B",
        "colab_type": "code",
        "colab": {
          "base_uri": "https://localhost:8080/",
          "height": 34
        },
        "outputId": "0db52153-53f6-4558-9939-cef66ba36b93"
      },
      "source": [
        "train.shape"
      ],
      "execution_count": 21,
      "outputs": [
        {
          "output_type": "execute_result",
          "data": {
            "text/plain": [
              "(364, 224, 224, 3)"
            ]
          },
          "metadata": {
            "tags": []
          },
          "execution_count": 21
        }
      ]
    },
    {
      "cell_type": "code",
      "metadata": {
        "id": "8XbsAbJM7axf",
        "colab_type": "code",
        "colab": {
          "base_uri": "https://localhost:8080/",
          "height": 34
        },
        "outputId": "37119dcf-c9a6-4fab-867f-0e03065f4805"
      },
      "source": [
        "y_labels.shape"
      ],
      "execution_count": 22,
      "outputs": [
        {
          "output_type": "execute_result",
          "data": {
            "text/plain": [
              "(364, 8)"
            ]
          },
          "metadata": {
            "tags": []
          },
          "execution_count": 22
        }
      ]
    },
    {
      "cell_type": "code",
      "metadata": {
        "id": "0bYgj_DcG4DV",
        "colab_type": "code",
        "outputId": "7cb86222-d600-464e-f895-e9d4b2b40f0f",
        "colab": {
          "base_uri": "https://localhost:8080/",
          "height": 1000
        }
      },
      "source": [
        "model.fit(train, y_labels,steps_per_epoch=np.ceil(float(train.shape[0]) / float(BATCH_SIZE)),\n",
        "                        epochs = 50,callbacks=[early_stop,reduce_lr])"
      ],
      "execution_count": 23,
      "outputs": [
        {
          "output_type": "stream",
          "text": [
            "Epoch 1/50\n",
            "25/25 [==============================] - ETA: 0s - loss: 64.6023 - accuracy: 0.1319 - f1_score: 0.1291WARNING:tensorflow:Early stopping conditioned on metric `val_loss` which is not available. Available metrics are: loss,accuracy,f1_score\n",
            "WARNING:tensorflow:Reduce LR on plateau conditioned on metric `val_loss` which is not available. Available metrics are: loss,accuracy,f1_score,lr\n",
            "25/25 [==============================] - 4s 174ms/step - loss: 64.6023 - accuracy: 0.1319 - f1_score: 0.1291 - lr: 1.0000e-04\n",
            "Epoch 2/50\n",
            "25/25 [==============================] - ETA: 0s - loss: 39.9133 - accuracy: 0.2500 - f1_score: 0.2396WARNING:tensorflow:Early stopping conditioned on metric `val_loss` which is not available. Available metrics are: loss,accuracy,f1_score\n",
            "WARNING:tensorflow:Reduce LR on plateau conditioned on metric `val_loss` which is not available. Available metrics are: loss,accuracy,f1_score,lr\n",
            "25/25 [==============================] - 4s 174ms/step - loss: 39.9133 - accuracy: 0.2500 - f1_score: 0.2396 - lr: 1.0000e-04\n",
            "Epoch 3/50\n",
            "25/25 [==============================] - ETA: 0s - loss: 29.7655 - accuracy: 0.3407 - f1_score: 0.3435WARNING:tensorflow:Early stopping conditioned on metric `val_loss` which is not available. Available metrics are: loss,accuracy,f1_score\n",
            "WARNING:tensorflow:Reduce LR on plateau conditioned on metric `val_loss` which is not available. Available metrics are: loss,accuracy,f1_score,lr\n",
            "25/25 [==============================] - 4s 174ms/step - loss: 29.7655 - accuracy: 0.3407 - f1_score: 0.3435 - lr: 1.0000e-04\n",
            "Epoch 4/50\n",
            "25/25 [==============================] - ETA: 0s - loss: 21.3636 - accuracy: 0.4505 - f1_score: 0.4475WARNING:tensorflow:Early stopping conditioned on metric `val_loss` which is not available. Available metrics are: loss,accuracy,f1_score\n",
            "WARNING:tensorflow:Reduce LR on plateau conditioned on metric `val_loss` which is not available. Available metrics are: loss,accuracy,f1_score,lr\n",
            "25/25 [==============================] - 4s 174ms/step - loss: 21.3636 - accuracy: 0.4505 - f1_score: 0.4475 - lr: 1.0000e-04\n",
            "Epoch 5/50\n",
            "25/25 [==============================] - ETA: 0s - loss: 18.5862 - accuracy: 0.5082 - f1_score: 0.5031WARNING:tensorflow:Early stopping conditioned on metric `val_loss` which is not available. Available metrics are: loss,accuracy,f1_score\n",
            "WARNING:tensorflow:Reduce LR on plateau conditioned on metric `val_loss` which is not available. Available metrics are: loss,accuracy,f1_score,lr\n",
            "25/25 [==============================] - 4s 174ms/step - loss: 18.5862 - accuracy: 0.5082 - f1_score: 0.5031 - lr: 1.0000e-04\n",
            "Epoch 6/50\n",
            "25/25 [==============================] - ETA: 0s - loss: 16.6555 - accuracy: 0.5577 - f1_score: 0.5584WARNING:tensorflow:Early stopping conditioned on metric `val_loss` which is not available. Available metrics are: loss,accuracy,f1_score\n",
            "WARNING:tensorflow:Reduce LR on plateau conditioned on metric `val_loss` which is not available. Available metrics are: loss,accuracy,f1_score,lr\n",
            "25/25 [==============================] - 4s 173ms/step - loss: 16.6555 - accuracy: 0.5577 - f1_score: 0.5584 - lr: 1.0000e-04\n",
            "Epoch 7/50\n",
            "25/25 [==============================] - ETA: 0s - loss: 12.7167 - accuracy: 0.5797 - f1_score: 0.5803WARNING:tensorflow:Early stopping conditioned on metric `val_loss` which is not available. Available metrics are: loss,accuracy,f1_score\n",
            "WARNING:tensorflow:Reduce LR on plateau conditioned on metric `val_loss` which is not available. Available metrics are: loss,accuracy,f1_score,lr\n",
            "25/25 [==============================] - 4s 174ms/step - loss: 12.7167 - accuracy: 0.5797 - f1_score: 0.5803 - lr: 1.0000e-04\n",
            "Epoch 8/50\n",
            "25/25 [==============================] - ETA: 0s - loss: 12.3151 - accuracy: 0.5962 - f1_score: 0.5995WARNING:tensorflow:Early stopping conditioned on metric `val_loss` which is not available. Available metrics are: loss,accuracy,f1_score\n",
            "WARNING:tensorflow:Reduce LR on plateau conditioned on metric `val_loss` which is not available. Available metrics are: loss,accuracy,f1_score,lr\n",
            "25/25 [==============================] - 4s 173ms/step - loss: 12.3151 - accuracy: 0.5962 - f1_score: 0.5995 - lr: 1.0000e-04\n",
            "Epoch 9/50\n",
            "25/25 [==============================] - ETA: 0s - loss: 9.0246 - accuracy: 0.6758 - f1_score: 0.6745WARNING:tensorflow:Early stopping conditioned on metric `val_loss` which is not available. Available metrics are: loss,accuracy,f1_score\n",
            "WARNING:tensorflow:Reduce LR on plateau conditioned on metric `val_loss` which is not available. Available metrics are: loss,accuracy,f1_score,lr\n",
            "25/25 [==============================] - 4s 172ms/step - loss: 9.0246 - accuracy: 0.6758 - f1_score: 0.6745 - lr: 1.0000e-04\n",
            "Epoch 10/50\n",
            "25/25 [==============================] - ETA: 0s - loss: 7.6243 - accuracy: 0.6813 - f1_score: 0.6835WARNING:tensorflow:Early stopping conditioned on metric `val_loss` which is not available. Available metrics are: loss,accuracy,f1_score\n",
            "WARNING:tensorflow:Reduce LR on plateau conditioned on metric `val_loss` which is not available. Available metrics are: loss,accuracy,f1_score,lr\n",
            "25/25 [==============================] - 4s 173ms/step - loss: 7.6243 - accuracy: 0.6813 - f1_score: 0.6835 - lr: 1.0000e-04\n",
            "Epoch 11/50\n",
            "25/25 [==============================] - ETA: 0s - loss: 7.3068 - accuracy: 0.7253 - f1_score: 0.7214WARNING:tensorflow:Early stopping conditioned on metric `val_loss` which is not available. Available metrics are: loss,accuracy,f1_score\n",
            "WARNING:tensorflow:Reduce LR on plateau conditioned on metric `val_loss` which is not available. Available metrics are: loss,accuracy,f1_score,lr\n",
            "25/25 [==============================] - 4s 174ms/step - loss: 7.3068 - accuracy: 0.7253 - f1_score: 0.7214 - lr: 1.0000e-04\n",
            "Epoch 12/50\n",
            "25/25 [==============================] - ETA: 0s - loss: 4.8830 - accuracy: 0.7610 - f1_score: 0.7632WARNING:tensorflow:Early stopping conditioned on metric `val_loss` which is not available. Available metrics are: loss,accuracy,f1_score\n",
            "WARNING:tensorflow:Reduce LR on plateau conditioned on metric `val_loss` which is not available. Available metrics are: loss,accuracy,f1_score,lr\n",
            "25/25 [==============================] - 4s 173ms/step - loss: 4.8830 - accuracy: 0.7610 - f1_score: 0.7632 - lr: 1.0000e-04\n",
            "Epoch 13/50\n",
            "25/25 [==============================] - ETA: 0s - loss: 5.5780 - accuracy: 0.7555 - f1_score: 0.7518WARNING:tensorflow:Early stopping conditioned on metric `val_loss` which is not available. Available metrics are: loss,accuracy,f1_score\n",
            "WARNING:tensorflow:Reduce LR on plateau conditioned on metric `val_loss` which is not available. Available metrics are: loss,accuracy,f1_score,lr\n",
            "25/25 [==============================] - 4s 173ms/step - loss: 5.5780 - accuracy: 0.7555 - f1_score: 0.7518 - lr: 1.0000e-04\n",
            "Epoch 14/50\n",
            "25/25 [==============================] - ETA: 0s - loss: 4.7514 - accuracy: 0.7582 - f1_score: 0.7614WARNING:tensorflow:Early stopping conditioned on metric `val_loss` which is not available. Available metrics are: loss,accuracy,f1_score\n",
            "WARNING:tensorflow:Reduce LR on plateau conditioned on metric `val_loss` which is not available. Available metrics are: loss,accuracy,f1_score,lr\n",
            "25/25 [==============================] - 4s 173ms/step - loss: 4.7514 - accuracy: 0.7582 - f1_score: 0.7614 - lr: 1.0000e-04\n",
            "Epoch 15/50\n",
            "25/25 [==============================] - ETA: 0s - loss: 3.8367 - accuracy: 0.8049 - f1_score: 0.8025WARNING:tensorflow:Early stopping conditioned on metric `val_loss` which is not available. Available metrics are: loss,accuracy,f1_score\n",
            "WARNING:tensorflow:Reduce LR on plateau conditioned on metric `val_loss` which is not available. Available metrics are: loss,accuracy,f1_score,lr\n",
            "25/25 [==============================] - 4s 173ms/step - loss: 3.8367 - accuracy: 0.8049 - f1_score: 0.8025 - lr: 1.0000e-04\n",
            "Epoch 16/50\n",
            "25/25 [==============================] - ETA: 0s - loss: 4.1004 - accuracy: 0.7912 - f1_score: 0.7917WARNING:tensorflow:Early stopping conditioned on metric `val_loss` which is not available. Available metrics are: loss,accuracy,f1_score\n",
            "WARNING:tensorflow:Reduce LR on plateau conditioned on metric `val_loss` which is not available. Available metrics are: loss,accuracy,f1_score,lr\n",
            "25/25 [==============================] - 4s 172ms/step - loss: 4.1004 - accuracy: 0.7912 - f1_score: 0.7917 - lr: 1.0000e-04\n",
            "Epoch 17/50\n",
            "25/25 [==============================] - ETA: 0s - loss: 2.8567 - accuracy: 0.8571 - f1_score: 0.8585WARNING:tensorflow:Early stopping conditioned on metric `val_loss` which is not available. Available metrics are: loss,accuracy,f1_score\n",
            "WARNING:tensorflow:Reduce LR on plateau conditioned on metric `val_loss` which is not available. Available metrics are: loss,accuracy,f1_score,lr\n",
            "25/25 [==============================] - 4s 173ms/step - loss: 2.8567 - accuracy: 0.8571 - f1_score: 0.8585 - lr: 1.0000e-04\n",
            "Epoch 18/50\n",
            "25/25 [==============================] - ETA: 0s - loss: 3.1608 - accuracy: 0.8269 - f1_score: 0.8282WARNING:tensorflow:Early stopping conditioned on metric `val_loss` which is not available. Available metrics are: loss,accuracy,f1_score\n",
            "WARNING:tensorflow:Reduce LR on plateau conditioned on metric `val_loss` which is not available. Available metrics are: loss,accuracy,f1_score,lr\n",
            "25/25 [==============================] - 4s 173ms/step - loss: 3.1608 - accuracy: 0.8269 - f1_score: 0.8282 - lr: 1.0000e-04\n",
            "Epoch 19/50\n",
            "25/25 [==============================] - ETA: 0s - loss: 2.6646 - accuracy: 0.8434 - f1_score: 0.8451WARNING:tensorflow:Early stopping conditioned on metric `val_loss` which is not available. Available metrics are: loss,accuracy,f1_score\n",
            "WARNING:tensorflow:Reduce LR on plateau conditioned on metric `val_loss` which is not available. Available metrics are: loss,accuracy,f1_score,lr\n",
            "25/25 [==============================] - 4s 174ms/step - loss: 2.6646 - accuracy: 0.8434 - f1_score: 0.8451 - lr: 1.0000e-04\n",
            "Epoch 20/50\n",
            "25/25 [==============================] - ETA: 0s - loss: 2.0643 - accuracy: 0.8571 - f1_score: 0.8570WARNING:tensorflow:Early stopping conditioned on metric `val_loss` which is not available. Available metrics are: loss,accuracy,f1_score\n",
            "WARNING:tensorflow:Reduce LR on plateau conditioned on metric `val_loss` which is not available. Available metrics are: loss,accuracy,f1_score,lr\n",
            "25/25 [==============================] - 4s 172ms/step - loss: 2.0643 - accuracy: 0.8571 - f1_score: 0.8570 - lr: 1.0000e-04\n",
            "Epoch 21/50\n",
            "25/25 [==============================] - ETA: 0s - loss: 2.1462 - accuracy: 0.8709 - f1_score: 0.8699WARNING:tensorflow:Early stopping conditioned on metric `val_loss` which is not available. Available metrics are: loss,accuracy,f1_score\n",
            "WARNING:tensorflow:Reduce LR on plateau conditioned on metric `val_loss` which is not available. Available metrics are: loss,accuracy,f1_score,lr\n",
            "25/25 [==============================] - 4s 173ms/step - loss: 2.1462 - accuracy: 0.8709 - f1_score: 0.8699 - lr: 1.0000e-04\n",
            "Epoch 22/50\n",
            "25/25 [==============================] - ETA: 0s - loss: 1.5775 - accuracy: 0.9011 - f1_score: 0.9011WARNING:tensorflow:Early stopping conditioned on metric `val_loss` which is not available. Available metrics are: loss,accuracy,f1_score\n",
            "WARNING:tensorflow:Reduce LR on plateau conditioned on metric `val_loss` which is not available. Available metrics are: loss,accuracy,f1_score,lr\n",
            "25/25 [==============================] - 4s 173ms/step - loss: 1.5775 - accuracy: 0.9011 - f1_score: 0.9011 - lr: 1.0000e-04\n",
            "Epoch 23/50\n",
            "25/25 [==============================] - ETA: 0s - loss: 1.7733 - accuracy: 0.8846 - f1_score: 0.8843WARNING:tensorflow:Early stopping conditioned on metric `val_loss` which is not available. Available metrics are: loss,accuracy,f1_score\n",
            "WARNING:tensorflow:Reduce LR on plateau conditioned on metric `val_loss` which is not available. Available metrics are: loss,accuracy,f1_score,lr\n",
            "25/25 [==============================] - 4s 174ms/step - loss: 1.7733 - accuracy: 0.8846 - f1_score: 0.8843 - lr: 1.0000e-04\n",
            "Epoch 24/50\n",
            "25/25 [==============================] - ETA: 0s - loss: 1.3612 - accuracy: 0.8901 - f1_score: 0.8914WARNING:tensorflow:Early stopping conditioned on metric `val_loss` which is not available. Available metrics are: loss,accuracy,f1_score\n",
            "WARNING:tensorflow:Reduce LR on plateau conditioned on metric `val_loss` which is not available. Available metrics are: loss,accuracy,f1_score,lr\n",
            "25/25 [==============================] - 4s 173ms/step - loss: 1.3612 - accuracy: 0.8901 - f1_score: 0.8914 - lr: 1.0000e-04\n",
            "Epoch 25/50\n",
            "25/25 [==============================] - ETA: 0s - loss: 1.8626 - accuracy: 0.8791 - f1_score: 0.8789WARNING:tensorflow:Early stopping conditioned on metric `val_loss` which is not available. Available metrics are: loss,accuracy,f1_score\n",
            "WARNING:tensorflow:Reduce LR on plateau conditioned on metric `val_loss` which is not available. Available metrics are: loss,accuracy,f1_score,lr\n",
            "25/25 [==============================] - 4s 173ms/step - loss: 1.8626 - accuracy: 0.8791 - f1_score: 0.8789 - lr: 1.0000e-04\n",
            "Epoch 26/50\n",
            "25/25 [==============================] - ETA: 0s - loss: 1.1136 - accuracy: 0.9038 - f1_score: 0.9038WARNING:tensorflow:Early stopping conditioned on metric `val_loss` which is not available. Available metrics are: loss,accuracy,f1_score\n",
            "WARNING:tensorflow:Reduce LR on plateau conditioned on metric `val_loss` which is not available. Available metrics are: loss,accuracy,f1_score,lr\n",
            "25/25 [==============================] - 4s 173ms/step - loss: 1.1136 - accuracy: 0.9038 - f1_score: 0.9038 - lr: 1.0000e-04\n",
            "Epoch 27/50\n",
            "25/25 [==============================] - ETA: 0s - loss: 1.3982 - accuracy: 0.9066 - f1_score: 0.9079WARNING:tensorflow:Early stopping conditioned on metric `val_loss` which is not available. Available metrics are: loss,accuracy,f1_score\n",
            "WARNING:tensorflow:Reduce LR on plateau conditioned on metric `val_loss` which is not available. Available metrics are: loss,accuracy,f1_score,lr\n",
            "25/25 [==============================] - 4s 174ms/step - loss: 1.3982 - accuracy: 0.9066 - f1_score: 0.9079 - lr: 1.0000e-04\n",
            "Epoch 28/50\n",
            "25/25 [==============================] - ETA: 0s - loss: 1.4692 - accuracy: 0.8956 - f1_score: 0.8964WARNING:tensorflow:Early stopping conditioned on metric `val_loss` which is not available. Available metrics are: loss,accuracy,f1_score\n",
            "WARNING:tensorflow:Reduce LR on plateau conditioned on metric `val_loss` which is not available. Available metrics are: loss,accuracy,f1_score,lr\n",
            "25/25 [==============================] - 4s 173ms/step - loss: 1.4692 - accuracy: 0.8956 - f1_score: 0.8964 - lr: 1.0000e-04\n",
            "Epoch 29/50\n",
            "25/25 [==============================] - ETA: 0s - loss: 0.8909 - accuracy: 0.9093 - f1_score: 0.9079WARNING:tensorflow:Early stopping conditioned on metric `val_loss` which is not available. Available metrics are: loss,accuracy,f1_score\n",
            "WARNING:tensorflow:Reduce LR on plateau conditioned on metric `val_loss` which is not available. Available metrics are: loss,accuracy,f1_score,lr\n",
            "25/25 [==============================] - 4s 173ms/step - loss: 0.8909 - accuracy: 0.9093 - f1_score: 0.9079 - lr: 1.0000e-04\n",
            "Epoch 30/50\n",
            "25/25 [==============================] - ETA: 0s - loss: 0.6828 - accuracy: 0.9396 - f1_score: 0.9385WARNING:tensorflow:Early stopping conditioned on metric `val_loss` which is not available. Available metrics are: loss,accuracy,f1_score\n",
            "WARNING:tensorflow:Reduce LR on plateau conditioned on metric `val_loss` which is not available. Available metrics are: loss,accuracy,f1_score,lr\n",
            "25/25 [==============================] - 4s 174ms/step - loss: 0.6828 - accuracy: 0.9396 - f1_score: 0.9385 - lr: 1.0000e-04\n",
            "Epoch 31/50\n",
            "25/25 [==============================] - ETA: 0s - loss: 1.2876 - accuracy: 0.8929 - f1_score: 0.8937WARNING:tensorflow:Early stopping conditioned on metric `val_loss` which is not available. Available metrics are: loss,accuracy,f1_score\n",
            "WARNING:tensorflow:Reduce LR on plateau conditioned on metric `val_loss` which is not available. Available metrics are: loss,accuracy,f1_score,lr\n",
            "25/25 [==============================] - 4s 175ms/step - loss: 1.2876 - accuracy: 0.8929 - f1_score: 0.8937 - lr: 1.0000e-04\n",
            "Epoch 32/50\n",
            "25/25 [==============================] - ETA: 0s - loss: 0.7590 - accuracy: 0.9478 - f1_score: 0.9480WARNING:tensorflow:Early stopping conditioned on metric `val_loss` which is not available. Available metrics are: loss,accuracy,f1_score\n",
            "WARNING:tensorflow:Reduce LR on plateau conditioned on metric `val_loss` which is not available. Available metrics are: loss,accuracy,f1_score,lr\n",
            "25/25 [==============================] - 4s 173ms/step - loss: 0.7590 - accuracy: 0.9478 - f1_score: 0.9480 - lr: 1.0000e-04\n",
            "Epoch 33/50\n",
            "25/25 [==============================] - ETA: 0s - loss: 0.4363 - accuracy: 0.9560 - f1_score: 0.9559WARNING:tensorflow:Early stopping conditioned on metric `val_loss` which is not available. Available metrics are: loss,accuracy,f1_score\n",
            "WARNING:tensorflow:Reduce LR on plateau conditioned on metric `val_loss` which is not available. Available metrics are: loss,accuracy,f1_score,lr\n",
            "25/25 [==============================] - 4s 174ms/step - loss: 0.4363 - accuracy: 0.9560 - f1_score: 0.9559 - lr: 1.0000e-04\n",
            "Epoch 34/50\n",
            "25/25 [==============================] - ETA: 0s - loss: 0.7114 - accuracy: 0.9313 - f1_score: 0.9316WARNING:tensorflow:Early stopping conditioned on metric `val_loss` which is not available. Available metrics are: loss,accuracy,f1_score\n",
            "WARNING:tensorflow:Reduce LR on plateau conditioned on metric `val_loss` which is not available. Available metrics are: loss,accuracy,f1_score,lr\n",
            "25/25 [==============================] - 4s 175ms/step - loss: 0.7114 - accuracy: 0.9313 - f1_score: 0.9316 - lr: 1.0000e-04\n",
            "Epoch 35/50\n",
            "25/25 [==============================] - ETA: 0s - loss: 0.6296 - accuracy: 0.9478 - f1_score: 0.9467WARNING:tensorflow:Early stopping conditioned on metric `val_loss` which is not available. Available metrics are: loss,accuracy,f1_score\n",
            "WARNING:tensorflow:Reduce LR on plateau conditioned on metric `val_loss` which is not available. Available metrics are: loss,accuracy,f1_score,lr\n",
            "25/25 [==============================] - 4s 175ms/step - loss: 0.6296 - accuracy: 0.9478 - f1_score: 0.9467 - lr: 1.0000e-04\n",
            "Epoch 36/50\n",
            "25/25 [==============================] - ETA: 0s - loss: 0.9545 - accuracy: 0.9368 - f1_score: 0.9372WARNING:tensorflow:Early stopping conditioned on metric `val_loss` which is not available. Available metrics are: loss,accuracy,f1_score\n",
            "WARNING:tensorflow:Reduce LR on plateau conditioned on metric `val_loss` which is not available. Available metrics are: loss,accuracy,f1_score,lr\n",
            "25/25 [==============================] - 4s 172ms/step - loss: 0.9545 - accuracy: 0.9368 - f1_score: 0.9372 - lr: 1.0000e-04\n",
            "Epoch 37/50\n",
            "25/25 [==============================] - ETA: 0s - loss: 0.4630 - accuracy: 0.9423 - f1_score: 0.9427WARNING:tensorflow:Early stopping conditioned on metric `val_loss` which is not available. Available metrics are: loss,accuracy,f1_score\n",
            "WARNING:tensorflow:Reduce LR on plateau conditioned on metric `val_loss` which is not available. Available metrics are: loss,accuracy,f1_score,lr\n",
            "25/25 [==============================] - 4s 174ms/step - loss: 0.4630 - accuracy: 0.9423 - f1_score: 0.9427 - lr: 1.0000e-04\n",
            "Epoch 38/50\n",
            "25/25 [==============================] - ETA: 0s - loss: 0.6768 - accuracy: 0.9368 - f1_score: 0.9356WARNING:tensorflow:Early stopping conditioned on metric `val_loss` which is not available. Available metrics are: loss,accuracy,f1_score\n",
            "WARNING:tensorflow:Reduce LR on plateau conditioned on metric `val_loss` which is not available. Available metrics are: loss,accuracy,f1_score,lr\n",
            "25/25 [==============================] - 4s 173ms/step - loss: 0.6768 - accuracy: 0.9368 - f1_score: 0.9356 - lr: 1.0000e-04\n",
            "Epoch 39/50\n",
            "25/25 [==============================] - ETA: 0s - loss: 0.5561 - accuracy: 0.9533 - f1_score: 0.9548WARNING:tensorflow:Early stopping conditioned on metric `val_loss` which is not available. Available metrics are: loss,accuracy,f1_score\n",
            "WARNING:tensorflow:Reduce LR on plateau conditioned on metric `val_loss` which is not available. Available metrics are: loss,accuracy,f1_score,lr\n",
            "25/25 [==============================] - 4s 174ms/step - loss: 0.5561 - accuracy: 0.9533 - f1_score: 0.9548 - lr: 1.0000e-04\n",
            "Epoch 40/50\n",
            "25/25 [==============================] - ETA: 0s - loss: 0.5928 - accuracy: 0.9368 - f1_score: 0.9372WARNING:tensorflow:Early stopping conditioned on metric `val_loss` which is not available. Available metrics are: loss,accuracy,f1_score\n",
            "WARNING:tensorflow:Reduce LR on plateau conditioned on metric `val_loss` which is not available. Available metrics are: loss,accuracy,f1_score,lr\n",
            "25/25 [==============================] - 4s 173ms/step - loss: 0.5928 - accuracy: 0.9368 - f1_score: 0.9372 - lr: 1.0000e-04\n",
            "Epoch 41/50\n",
            "25/25 [==============================] - ETA: 0s - loss: 0.4599 - accuracy: 0.9505 - f1_score: 0.9510WARNING:tensorflow:Early stopping conditioned on metric `val_loss` which is not available. Available metrics are: loss,accuracy,f1_score\n",
            "WARNING:tensorflow:Reduce LR on plateau conditioned on metric `val_loss` which is not available. Available metrics are: loss,accuracy,f1_score,lr\n",
            "25/25 [==============================] - 4s 174ms/step - loss: 0.4599 - accuracy: 0.9505 - f1_score: 0.9510 - lr: 1.0000e-04\n",
            "Epoch 42/50\n",
            "25/25 [==============================] - ETA: 0s - loss: 0.4739 - accuracy: 0.9588 - f1_score: 0.9585WARNING:tensorflow:Early stopping conditioned on metric `val_loss` which is not available. Available metrics are: loss,accuracy,f1_score\n",
            "WARNING:tensorflow:Reduce LR on plateau conditioned on metric `val_loss` which is not available. Available metrics are: loss,accuracy,f1_score,lr\n",
            "25/25 [==============================] - 4s 173ms/step - loss: 0.4739 - accuracy: 0.9588 - f1_score: 0.9585 - lr: 1.0000e-04\n",
            "Epoch 43/50\n",
            "25/25 [==============================] - ETA: 0s - loss: 0.4191 - accuracy: 0.9615 - f1_score: 0.9607WARNING:tensorflow:Early stopping conditioned on metric `val_loss` which is not available. Available metrics are: loss,accuracy,f1_score\n",
            "WARNING:tensorflow:Reduce LR on plateau conditioned on metric `val_loss` which is not available. Available metrics are: loss,accuracy,f1_score,lr\n",
            "25/25 [==============================] - 4s 173ms/step - loss: 0.4191 - accuracy: 0.9615 - f1_score: 0.9607 - lr: 1.0000e-04\n",
            "Epoch 44/50\n",
            "25/25 [==============================] - ETA: 0s - loss: 0.4715 - accuracy: 0.9643 - f1_score: 0.9638WARNING:tensorflow:Early stopping conditioned on metric `val_loss` which is not available. Available metrics are: loss,accuracy,f1_score\n",
            "WARNING:tensorflow:Reduce LR on plateau conditioned on metric `val_loss` which is not available. Available metrics are: loss,accuracy,f1_score,lr\n",
            "25/25 [==============================] - 4s 173ms/step - loss: 0.4715 - accuracy: 0.9643 - f1_score: 0.9638 - lr: 1.0000e-04\n",
            "Epoch 45/50\n",
            "25/25 [==============================] - ETA: 0s - loss: 0.4498 - accuracy: 0.9396 - f1_score: 0.9403WARNING:tensorflow:Early stopping conditioned on metric `val_loss` which is not available. Available metrics are: loss,accuracy,f1_score\n",
            "WARNING:tensorflow:Reduce LR on plateau conditioned on metric `val_loss` which is not available. Available metrics are: loss,accuracy,f1_score,lr\n",
            "25/25 [==============================] - 4s 173ms/step - loss: 0.4498 - accuracy: 0.9396 - f1_score: 0.9403 - lr: 1.0000e-04\n",
            "Epoch 46/50\n",
            "25/25 [==============================] - ETA: 0s - loss: 0.6407 - accuracy: 0.9478 - f1_score: 0.9488WARNING:tensorflow:Early stopping conditioned on metric `val_loss` which is not available. Available metrics are: loss,accuracy,f1_score\n",
            "WARNING:tensorflow:Reduce LR on plateau conditioned on metric `val_loss` which is not available. Available metrics are: loss,accuracy,f1_score,lr\n",
            "25/25 [==============================] - 4s 172ms/step - loss: 0.6407 - accuracy: 0.9478 - f1_score: 0.9488 - lr: 1.0000e-04\n",
            "Epoch 47/50\n",
            "25/25 [==============================] - ETA: 0s - loss: 0.3511 - accuracy: 0.9560 - f1_score: 0.9566WARNING:tensorflow:Early stopping conditioned on metric `val_loss` which is not available. Available metrics are: loss,accuracy,f1_score\n",
            "WARNING:tensorflow:Reduce LR on plateau conditioned on metric `val_loss` which is not available. Available metrics are: loss,accuracy,f1_score,lr\n",
            "25/25 [==============================] - 4s 173ms/step - loss: 0.3511 - accuracy: 0.9560 - f1_score: 0.9566 - lr: 1.0000e-04\n",
            "Epoch 48/50\n",
            "25/25 [==============================] - ETA: 0s - loss: 0.6258 - accuracy: 0.9588 - f1_score: 0.9586WARNING:tensorflow:Early stopping conditioned on metric `val_loss` which is not available. Available metrics are: loss,accuracy,f1_score\n",
            "WARNING:tensorflow:Reduce LR on plateau conditioned on metric `val_loss` which is not available. Available metrics are: loss,accuracy,f1_score,lr\n",
            "25/25 [==============================] - 4s 172ms/step - loss: 0.6258 - accuracy: 0.9588 - f1_score: 0.9586 - lr: 1.0000e-04\n",
            "Epoch 49/50\n",
            "25/25 [==============================] - ETA: 0s - loss: 0.5156 - accuracy: 0.9478 - f1_score: 0.9480WARNING:tensorflow:Early stopping conditioned on metric `val_loss` which is not available. Available metrics are: loss,accuracy,f1_score\n",
            "WARNING:tensorflow:Reduce LR on plateau conditioned on metric `val_loss` which is not available. Available metrics are: loss,accuracy,f1_score,lr\n",
            "25/25 [==============================] - 4s 173ms/step - loss: 0.5156 - accuracy: 0.9478 - f1_score: 0.9480 - lr: 1.0000e-04\n",
            "Epoch 50/50\n",
            "25/25 [==============================] - ETA: 0s - loss: 0.3672 - accuracy: 0.9670 - f1_score: 0.9679WARNING:tensorflow:Early stopping conditioned on metric `val_loss` which is not available. Available metrics are: loss,accuracy,f1_score\n",
            "WARNING:tensorflow:Reduce LR on plateau conditioned on metric `val_loss` which is not available. Available metrics are: loss,accuracy,f1_score,lr\n",
            "25/25 [==============================] - 4s 172ms/step - loss: 0.3672 - accuracy: 0.9670 - f1_score: 0.9679 - lr: 1.0000e-04\n"
          ],
          "name": "stdout"
        },
        {
          "output_type": "execute_result",
          "data": {
            "text/plain": [
              "<tensorflow.python.keras.callbacks.History at 0x7fd320bba198>"
            ]
          },
          "metadata": {
            "tags": []
          },
          "execution_count": 23
        }
      ]
    },
    {
      "cell_type": "code",
      "metadata": {
        "id": "S7hq6bkVG8Ww",
        "colab_type": "code",
        "colab": {}
      },
      "source": [
        "pred = model.predict(test)\n",
        "pred = np.argmax(pred, axis=1)\n",
        "test_data = pd.read_csv(\"/content/drive/My Drive/HackerEarth/IdentifyDanceForms/test.csv\")\n",
        "\n",
        "pred = encoder.inverse_transform(pred)\n",
        "result = pd.DataFrame(pred, test_data[\"Image\"], columns=[\"target\"])\n",
        "result.to_csv(\"sample5.csv\")"
      ],
      "execution_count": 0,
      "outputs": []
    },
    {
      "cell_type": "code",
      "metadata": {
        "id": "bOXWzCF25HVl",
        "colab_type": "code",
        "colab": {}
      },
      "source": [
        ""
      ],
      "execution_count": 0,
      "outputs": []
    }
  ]
}