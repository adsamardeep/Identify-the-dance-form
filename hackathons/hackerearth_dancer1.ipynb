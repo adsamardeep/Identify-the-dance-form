{
  "nbformat": 4,
  "nbformat_minor": 0,
  "metadata": {
    "colab": {
      "name": "dancer.ipynb",
      "provenance": [],
      "include_colab_link": true
    },
    "kernelspec": {
      "name": "python3",
      "display_name": "Python 3"
    },
    "accelerator": "GPU"
  },
  "cells": [
    {
      "cell_type": "markdown",
      "metadata": {
        "id": "view-in-github",
        "colab_type": "text"
      },
      "source": [
        "<a href=\"https://colab.research.google.com/github/adsamardeep/Identify-the-dance-form/blob/master/hackathons/hackerearth_dancer1.ipynb\" target=\"_parent\"><img src=\"https://colab.research.google.com/assets/colab-badge.svg\" alt=\"Open In Colab\"/></a>"
      ]
    },
    {
      "cell_type": "code",
      "metadata": {
        "id": "SELcKmW4JMEw",
        "colab_type": "code",
        "colab": {
          "base_uri": "https://localhost:8080/",
          "height": 122
        },
        "outputId": "99a23b79-7ab4-417a-d588-c72a23334f3f"
      },
      "source": [
        "from google.colab import drive\n",
        "drive.mount('/content/drive')"
      ],
      "execution_count": 1,
      "outputs": [
        {
          "output_type": "stream",
          "text": [
            "Go to this URL in a browser: https://accounts.google.com/o/oauth2/auth?client_id=947318989803-6bn6qk8qdgf4n4g3pfee6491hc0brc4i.apps.googleusercontent.com&redirect_uri=urn%3aietf%3awg%3aoauth%3a2.0%3aoob&response_type=code&scope=email%20https%3a%2f%2fwww.googleapis.com%2fauth%2fdocs.test%20https%3a%2f%2fwww.googleapis.com%2fauth%2fdrive%20https%3a%2f%2fwww.googleapis.com%2fauth%2fdrive.photos.readonly%20https%3a%2f%2fwww.googleapis.com%2fauth%2fpeopleapi.readonly\n",
            "\n",
            "Enter your authorization code:\n",
            "··········\n",
            "Mounted at /content/drive\n"
          ],
          "name": "stdout"
        }
      ]
    },
    {
      "cell_type": "code",
      "metadata": {
        "id": "Rjhy63kQIRVn",
        "colab_type": "code",
        "outputId": "b253acfd-d8cb-4de5-f1b1-817712f4fd65",
        "colab": {
          "base_uri": "https://localhost:8080/",
          "height": 34
        }
      },
      "source": [
        "import pandas as pd\n",
        "import numpy as np\n",
        "import PIL\n",
        "import cv2 ,pickle\n",
        "from sklearn.preprocessing import LabelEncoder\n",
        "from keras.utils import np_utils"
      ],
      "execution_count": 2,
      "outputs": [
        {
          "output_type": "stream",
          "text": [
            "Using TensorFlow backend.\n"
          ],
          "name": "stderr"
        }
      ]
    },
    {
      "cell_type": "code",
      "metadata": {
        "id": "Wb_BWgwDI9d5",
        "colab_type": "code",
        "colab": {}
      },
      "source": [
        "test_data = pd.read_csv(\"/content/drive/My Drive/HackerEarth/IdentifyDanceForms/test.csv\")\n",
        "train_data = pd.read_csv(\"/content/drive/My Drive/HackerEarth/IdentifyDanceForms/train.csv\")"
      ],
      "execution_count": 0,
      "outputs": []
    },
    {
      "cell_type": "code",
      "metadata": {
        "id": "NQQ42QZaJLDA",
        "colab_type": "code",
        "outputId": "9e243c64-932b-42cd-ca4f-18e8fb4f2a88",
        "colab": {
          "base_uri": "https://localhost:8080/",
          "height": 204
        }
      },
      "source": [
        "test_data.head()"
      ],
      "execution_count": 4,
      "outputs": [
        {
          "output_type": "execute_result",
          "data": {
            "text/html": [
              "<div>\n",
              "<style scoped>\n",
              "    .dataframe tbody tr th:only-of-type {\n",
              "        vertical-align: middle;\n",
              "    }\n",
              "\n",
              "    .dataframe tbody tr th {\n",
              "        vertical-align: top;\n",
              "    }\n",
              "\n",
              "    .dataframe thead th {\n",
              "        text-align: right;\n",
              "    }\n",
              "</style>\n",
              "<table border=\"1\" class=\"dataframe\">\n",
              "  <thead>\n",
              "    <tr style=\"text-align: right;\">\n",
              "      <th></th>\n",
              "      <th>Image</th>\n",
              "    </tr>\n",
              "  </thead>\n",
              "  <tbody>\n",
              "    <tr>\n",
              "      <th>0</th>\n",
              "      <td>508.jpg</td>\n",
              "    </tr>\n",
              "    <tr>\n",
              "      <th>1</th>\n",
              "      <td>246.jpg</td>\n",
              "    </tr>\n",
              "    <tr>\n",
              "      <th>2</th>\n",
              "      <td>473.jpg</td>\n",
              "    </tr>\n",
              "    <tr>\n",
              "      <th>3</th>\n",
              "      <td>485.jpg</td>\n",
              "    </tr>\n",
              "    <tr>\n",
              "      <th>4</th>\n",
              "      <td>128.jpg</td>\n",
              "    </tr>\n",
              "  </tbody>\n",
              "</table>\n",
              "</div>"
            ],
            "text/plain": [
              "     Image\n",
              "0  508.jpg\n",
              "1  246.jpg\n",
              "2  473.jpg\n",
              "3  485.jpg\n",
              "4  128.jpg"
            ]
          },
          "metadata": {
            "tags": []
          },
          "execution_count": 4
        }
      ]
    },
    {
      "cell_type": "code",
      "metadata": {
        "id": "oHqVpiYPJMiv",
        "colab_type": "code",
        "outputId": "e24ad64c-6cc5-4944-fe4a-8ace2efffe09",
        "colab": {
          "base_uri": "https://localhost:8080/",
          "height": 204
        }
      },
      "source": [
        "train_data.head()"
      ],
      "execution_count": 5,
      "outputs": [
        {
          "output_type": "execute_result",
          "data": {
            "text/html": [
              "<div>\n",
              "<style scoped>\n",
              "    .dataframe tbody tr th:only-of-type {\n",
              "        vertical-align: middle;\n",
              "    }\n",
              "\n",
              "    .dataframe tbody tr th {\n",
              "        vertical-align: top;\n",
              "    }\n",
              "\n",
              "    .dataframe thead th {\n",
              "        text-align: right;\n",
              "    }\n",
              "</style>\n",
              "<table border=\"1\" class=\"dataframe\">\n",
              "  <thead>\n",
              "    <tr style=\"text-align: right;\">\n",
              "      <th></th>\n",
              "      <th>Image</th>\n",
              "      <th>target</th>\n",
              "    </tr>\n",
              "  </thead>\n",
              "  <tbody>\n",
              "    <tr>\n",
              "      <th>0</th>\n",
              "      <td>96.jpg</td>\n",
              "      <td>manipuri</td>\n",
              "    </tr>\n",
              "    <tr>\n",
              "      <th>1</th>\n",
              "      <td>163.jpg</td>\n",
              "      <td>bharatanatyam</td>\n",
              "    </tr>\n",
              "    <tr>\n",
              "      <th>2</th>\n",
              "      <td>450.jpg</td>\n",
              "      <td>odissi</td>\n",
              "    </tr>\n",
              "    <tr>\n",
              "      <th>3</th>\n",
              "      <td>219.jpg</td>\n",
              "      <td>kathakali</td>\n",
              "    </tr>\n",
              "    <tr>\n",
              "      <th>4</th>\n",
              "      <td>455.jpg</td>\n",
              "      <td>odissi</td>\n",
              "    </tr>\n",
              "  </tbody>\n",
              "</table>\n",
              "</div>"
            ],
            "text/plain": [
              "     Image         target\n",
              "0   96.jpg       manipuri\n",
              "1  163.jpg  bharatanatyam\n",
              "2  450.jpg         odissi\n",
              "3  219.jpg      kathakali\n",
              "4  455.jpg         odissi"
            ]
          },
          "metadata": {
            "tags": []
          },
          "execution_count": 5
        }
      ]
    },
    {
      "cell_type": "code",
      "metadata": {
        "id": "RYaOoIu5JOR9",
        "colab_type": "code",
        "colab": {}
      },
      "source": [
        "train = []\n",
        "for i in train_data[\"Image\"]:\n",
        "    path = \"/content/drive/My Drive/HackerEarth/IdentifyDanceForms/train/\"+i\n",
        "    img_data = cv2.imread(path)\n",
        "    img_data = cv2.resize(img_data, (224, 224), \n",
        "                           interpolation=cv2.INTER_NEAREST)\n",
        "    train.append(np.array(img_data))"
      ],
      "execution_count": 0,
      "outputs": []
    },
    {
      "cell_type": "code",
      "metadata": {
        "id": "JVK2Pz02L685",
        "colab_type": "code",
        "colab": {}
      },
      "source": [
        "test = []\n",
        "for i in test_data[\"Image\"]:\n",
        "  path = \"/content/drive/My Drive/HackerEarth/IdentifyDanceForms/test/\"+i\n",
        "  img_data = cv2.imread(path)\n",
        "  img_data = cv2.resize(img_data, (224, 224), \n",
        "                           interpolation=cv2.INTER_NEAREST)\n",
        "  test.append(np.array(img_data))"
      ],
      "execution_count": 0,
      "outputs": []
    },
    {
      "cell_type": "code",
      "metadata": {
        "id": "IQFoNf7GoE_b",
        "colab_type": "code",
        "outputId": "081ab730-5e1d-48a8-e6ec-c877f68a2574",
        "colab": {
          "base_uri": "https://localhost:8080/",
          "height": 34
        }
      },
      "source": [
        "train[0].shape"
      ],
      "execution_count": 11,
      "outputs": [
        {
          "output_type": "execute_result",
          "data": {
            "text/plain": [
              "(224, 224, 3)"
            ]
          },
          "metadata": {
            "tags": []
          },
          "execution_count": 11
        }
      ]
    },
    {
      "cell_type": "code",
      "metadata": {
        "id": "rKiEQJwcMWHQ",
        "colab_type": "code",
        "colab": {}
      },
      "source": [
        "import pickle\n",
        "pickle.dump(train,open(\"/content/drive/My Drive/HackerEarth/IdentifyDanceForms/train.npy\",\"wb\"))\n",
        "pickle.dump(test, open(\"/content/drive/My Drive/HackerEarth/IdentifyDanceForms/test.npy\",\"wb\"))"
      ],
      "execution_count": 0,
      "outputs": []
    },
    {
      "cell_type": "code",
      "metadata": {
        "id": "sEBR0pgPM6js",
        "colab_type": "code",
        "colab": {}
      },
      "source": [
        "test_img = pickle.load(open(\"/content/drive/My Drive/HackerEarth/IdentifyDanceForms/test.npy\",\"rb\"))\n",
        "train_img = pickle.load(open(\"/content/drive/My Drive/HackerEarth/IdentifyDanceForms/train.npy\",\"rb\"))"
      ],
      "execution_count": 0,
      "outputs": []
    },
    {
      "cell_type": "code",
      "metadata": {
        "id": "TlLLJQWJM8je",
        "colab_type": "code",
        "colab": {}
      },
      "source": [
        "train_img = np.array(train_img)\n",
        "test_img = np.array(test_img)"
      ],
      "execution_count": 0,
      "outputs": []
    },
    {
      "cell_type": "code",
      "metadata": {
        "id": "V_USJJlkRcmG",
        "colab_type": "code",
        "outputId": "901753cd-1d99-4804-fde4-733dea218faf",
        "colab": {
          "base_uri": "https://localhost:8080/",
          "height": 204
        }
      },
      "source": [
        "train_data.head() "
      ],
      "execution_count": 26,
      "outputs": [
        {
          "output_type": "execute_result",
          "data": {
            "text/html": [
              "<div>\n",
              "<style scoped>\n",
              "    .dataframe tbody tr th:only-of-type {\n",
              "        vertical-align: middle;\n",
              "    }\n",
              "\n",
              "    .dataframe tbody tr th {\n",
              "        vertical-align: top;\n",
              "    }\n",
              "\n",
              "    .dataframe thead th {\n",
              "        text-align: right;\n",
              "    }\n",
              "</style>\n",
              "<table border=\"1\" class=\"dataframe\">\n",
              "  <thead>\n",
              "    <tr style=\"text-align: right;\">\n",
              "      <th></th>\n",
              "      <th>Image</th>\n",
              "      <th>target</th>\n",
              "    </tr>\n",
              "  </thead>\n",
              "  <tbody>\n",
              "    <tr>\n",
              "      <th>0</th>\n",
              "      <td>96.jpg</td>\n",
              "      <td>manipuri</td>\n",
              "    </tr>\n",
              "    <tr>\n",
              "      <th>1</th>\n",
              "      <td>163.jpg</td>\n",
              "      <td>bharatanatyam</td>\n",
              "    </tr>\n",
              "    <tr>\n",
              "      <th>2</th>\n",
              "      <td>450.jpg</td>\n",
              "      <td>odissi</td>\n",
              "    </tr>\n",
              "    <tr>\n",
              "      <th>3</th>\n",
              "      <td>219.jpg</td>\n",
              "      <td>kathakali</td>\n",
              "    </tr>\n",
              "    <tr>\n",
              "      <th>4</th>\n",
              "      <td>455.jpg</td>\n",
              "      <td>odissi</td>\n",
              "    </tr>\n",
              "  </tbody>\n",
              "</table>\n",
              "</div>"
            ],
            "text/plain": [
              "     Image         target\n",
              "0   96.jpg       manipuri\n",
              "1  163.jpg  bharatanatyam\n",
              "2  450.jpg         odissi\n",
              "3  219.jpg      kathakali\n",
              "4  455.jpg         odissi"
            ]
          },
          "metadata": {
            "tags": []
          },
          "execution_count": 26
        }
      ]
    },
    {
      "cell_type": "code",
      "metadata": {
        "id": "9gLICAtjRdRU",
        "colab_type": "code",
        "colab": {}
      },
      "source": [
        "encoder = LabelEncoder()\n",
        "encoder.fit(train_data[\"target\"])\n",
        "encoded_Y = encoder.transform(train_data[\"target\"])\n",
        "dummy_y = np_utils.to_categorical(encoded_Y)"
      ],
      "execution_count": 0,
      "outputs": []
    },
    {
      "cell_type": "code",
      "metadata": {
        "id": "hqqk7b6r5-x5",
        "colab_type": "code",
        "outputId": "07771e0f-0743-4036-ab8a-b402133973c1",
        "colab": {
          "base_uri": "https://localhost:8080/",
          "height": 34
        }
      },
      "source": [
        "dummy_y.shape"
      ],
      "execution_count": 28,
      "outputs": [
        {
          "output_type": "execute_result",
          "data": {
            "text/plain": [
              "(364, 8)"
            ]
          },
          "metadata": {
            "tags": []
          },
          "execution_count": 28
        }
      ]
    },
    {
      "cell_type": "code",
      "metadata": {
        "id": "PRwD_Se86LVU",
        "colab_type": "code",
        "outputId": "a75e6904-3d02-4302-b6e0-74dcc8307033",
        "colab": {
          "base_uri": "https://localhost:8080/",
          "height": 34
        }
      },
      "source": [
        "train_img.shape"
      ],
      "execution_count": 29,
      "outputs": [
        {
          "output_type": "execute_result",
          "data": {
            "text/plain": [
              "(364, 224, 224, 3)"
            ]
          },
          "metadata": {
            "tags": []
          },
          "execution_count": 29
        }
      ]
    },
    {
      "cell_type": "code",
      "metadata": {
        "id": "9f1wNk4W6tbn",
        "colab_type": "code",
        "colab": {}
      },
      "source": [
        "from keras.models import Sequential\n",
        "from keras.layers import Dense, Dropout, Conv2D, MaxPool2D, Flatten\n",
        "from keras.wrappers.scikit_learn import KerasClassifier"
      ],
      "execution_count": 0,
      "outputs": []
    },
    {
      "cell_type": "code",
      "metadata": {
        "id": "5cswm7Gr8JRZ",
        "colab_type": "code",
        "colab": {}
      },
      "source": [
        "# Creating a Sequential model\n",
        "model= Sequential()\n",
        "model.add(Conv2D(kernel_size=(3,3), filters=3, activation='relu', input_shape=train_img[0].shape))\n",
        "model.add(Conv2D(filters=3,kernel_size = (3,3),activation='relu'))\n",
        "model.add(MaxPool2D(3,3))\n",
        "model.add(Conv2D(filters=3,kernel_size = (3,3),activation='relu'))\n",
        "model.add(MaxPool2D(3,3))\n",
        "model.add(Conv2D(filters=3,kernel_size = (3,3),activation='relu'))\n",
        "\n",
        "model.add(Flatten())\n",
        "\n",
        "model.add(Dense(20,activation='relu'))\n",
        "model.add(Dense(15,activation='relu'))\n",
        "model.add(Dense(8,activation = 'softmax'))\n",
        "    \n",
        "model.compile(\n",
        "              loss='categorical_crossentropy', \n",
        "              metrics=['acc'],\n",
        "              optimizer='adam'\n",
        "             )"
      ],
      "execution_count": 0,
      "outputs": []
    },
    {
      "cell_type": "code",
      "metadata": {
        "id": "T8oHwXbH_Cr1",
        "colab_type": "code",
        "outputId": "611286cc-28bc-4977-dde2-e717c53bda02",
        "colab": {
          "base_uri": "https://localhost:8080/",
          "height": 493
        }
      },
      "source": [
        "model.summary()"
      ],
      "execution_count": 32,
      "outputs": [
        {
          "output_type": "stream",
          "text": [
            "Model: \"sequential_2\"\n",
            "_________________________________________________________________\n",
            "Layer (type)                 Output Shape              Param #   \n",
            "=================================================================\n",
            "conv2d_5 (Conv2D)            (None, 222, 222, 3)       84        \n",
            "_________________________________________________________________\n",
            "conv2d_6 (Conv2D)            (None, 220, 220, 3)       84        \n",
            "_________________________________________________________________\n",
            "max_pooling2d_3 (MaxPooling2 (None, 73, 73, 3)         0         \n",
            "_________________________________________________________________\n",
            "conv2d_7 (Conv2D)            (None, 71, 71, 3)         84        \n",
            "_________________________________________________________________\n",
            "max_pooling2d_4 (MaxPooling2 (None, 23, 23, 3)         0         \n",
            "_________________________________________________________________\n",
            "conv2d_8 (Conv2D)            (None, 21, 21, 3)         84        \n",
            "_________________________________________________________________\n",
            "flatten_2 (Flatten)          (None, 1323)              0         \n",
            "_________________________________________________________________\n",
            "dense_4 (Dense)              (None, 20)                26480     \n",
            "_________________________________________________________________\n",
            "dense_5 (Dense)              (None, 15)                315       \n",
            "_________________________________________________________________\n",
            "dense_6 (Dense)              (None, 8)                 128       \n",
            "=================================================================\n",
            "Total params: 27,259\n",
            "Trainable params: 27,259\n",
            "Non-trainable params: 0\n",
            "_________________________________________________________________\n"
          ],
          "name": "stdout"
        }
      ]
    },
    {
      "cell_type": "code",
      "metadata": {
        "id": "9Z-dW7RfAwlO",
        "colab_type": "code",
        "outputId": "49dfc9b8-a937-497a-da8c-3ccf9d60b85f",
        "colab": {
          "base_uri": "https://localhost:8080/",
          "height": 1000
        }
      },
      "source": [
        "history = model.fit(train_img, dummy_y, epochs=50, batch_size=50)"
      ],
      "execution_count": 33,
      "outputs": [
        {
          "output_type": "stream",
          "text": [
            "Epoch 1/50\n",
            "364/364 [==============================] - 7s 18ms/step - loss: 6.8655 - acc: 0.1676\n",
            "Epoch 2/50\n",
            "364/364 [==============================] - 0s 548us/step - loss: 2.6331 - acc: 0.2033\n",
            "Epoch 3/50\n",
            "364/364 [==============================] - 0s 556us/step - loss: 2.0813 - acc: 0.2143\n",
            "Epoch 4/50\n",
            "364/364 [==============================] - 0s 552us/step - loss: 1.9488 - acc: 0.2555\n",
            "Epoch 5/50\n",
            "364/364 [==============================] - 0s 538us/step - loss: 1.8249 - acc: 0.3214\n",
            "Epoch 6/50\n",
            "364/364 [==============================] - 0s 548us/step - loss: 1.7226 - acc: 0.3599\n",
            "Epoch 7/50\n",
            "364/364 [==============================] - 0s 545us/step - loss: 1.6143 - acc: 0.4066\n",
            "Epoch 8/50\n",
            "364/364 [==============================] - 0s 573us/step - loss: 1.4950 - acc: 0.4588\n",
            "Epoch 9/50\n",
            "364/364 [==============================] - 0s 541us/step - loss: 1.3512 - acc: 0.5220\n",
            "Epoch 10/50\n",
            "364/364 [==============================] - 0s 541us/step - loss: 1.2164 - acc: 0.5852\n",
            "Epoch 11/50\n",
            "364/364 [==============================] - 0s 542us/step - loss: 1.1040 - acc: 0.5962\n",
            "Epoch 12/50\n",
            "364/364 [==============================] - 0s 526us/step - loss: 0.9835 - acc: 0.6346\n",
            "Epoch 13/50\n",
            "364/364 [==============================] - 0s 545us/step - loss: 0.8752 - acc: 0.6703\n",
            "Epoch 14/50\n",
            "364/364 [==============================] - 0s 546us/step - loss: 0.7708 - acc: 0.7088\n",
            "Epoch 15/50\n",
            "364/364 [==============================] - 0s 536us/step - loss: 0.6874 - acc: 0.7445\n",
            "Epoch 16/50\n",
            "364/364 [==============================] - 0s 540us/step - loss: 0.6143 - acc: 0.7885\n",
            "Epoch 17/50\n",
            "364/364 [==============================] - 0s 524us/step - loss: 0.5229 - acc: 0.8187\n",
            "Epoch 18/50\n",
            "364/364 [==============================] - 0s 548us/step - loss: 0.4540 - acc: 0.8462\n",
            "Epoch 19/50\n",
            "364/364 [==============================] - 0s 532us/step - loss: 0.3894 - acc: 0.8544\n",
            "Epoch 20/50\n",
            "364/364 [==============================] - 0s 524us/step - loss: 0.3598 - acc: 0.8819\n",
            "Epoch 21/50\n",
            "364/364 [==============================] - 0s 530us/step - loss: 0.2910 - acc: 0.9011\n",
            "Epoch 22/50\n",
            "364/364 [==============================] - 0s 550us/step - loss: 0.2336 - acc: 0.9258\n",
            "Epoch 23/50\n",
            "364/364 [==============================] - 0s 557us/step - loss: 0.1897 - acc: 0.9478\n",
            "Epoch 24/50\n",
            "364/364 [==============================] - 0s 534us/step - loss: 0.1593 - acc: 0.9615\n",
            "Epoch 25/50\n",
            "364/364 [==============================] - 0s 544us/step - loss: 0.1202 - acc: 0.9643\n",
            "Epoch 26/50\n",
            "364/364 [==============================] - 0s 535us/step - loss: 0.1118 - acc: 0.9725\n",
            "Epoch 27/50\n",
            "364/364 [==============================] - 0s 535us/step - loss: 0.0952 - acc: 0.9753\n",
            "Epoch 28/50\n",
            "364/364 [==============================] - 0s 550us/step - loss: 0.0742 - acc: 0.9753\n",
            "Epoch 29/50\n",
            "364/364 [==============================] - 0s 528us/step - loss: 0.0669 - acc: 0.9835\n",
            "Epoch 30/50\n",
            "364/364 [==============================] - 0s 526us/step - loss: 0.0542 - acc: 0.9890\n",
            "Epoch 31/50\n",
            "364/364 [==============================] - 0s 534us/step - loss: 0.0430 - acc: 0.9918\n",
            "Epoch 32/50\n",
            "364/364 [==============================] - 0s 534us/step - loss: 0.0364 - acc: 0.9918\n",
            "Epoch 33/50\n",
            "364/364 [==============================] - 0s 531us/step - loss: 0.0299 - acc: 0.9945\n",
            "Epoch 34/50\n",
            "364/364 [==============================] - 0s 552us/step - loss: 0.0280 - acc: 0.9918\n",
            "Epoch 35/50\n",
            "364/364 [==============================] - 0s 537us/step - loss: 0.0243 - acc: 0.9945\n",
            "Epoch 36/50\n",
            "364/364 [==============================] - 0s 538us/step - loss: 0.0526 - acc: 0.9945\n",
            "Epoch 37/50\n",
            "364/364 [==============================] - 0s 541us/step - loss: 0.0302 - acc: 0.9945\n",
            "Epoch 38/50\n",
            "364/364 [==============================] - 0s 555us/step - loss: 0.0439 - acc: 0.9945\n",
            "Epoch 39/50\n",
            "364/364 [==============================] - 0s 567us/step - loss: 0.0323 - acc: 0.9918\n",
            "Epoch 40/50\n",
            "364/364 [==============================] - 0s 533us/step - loss: 0.0429 - acc: 0.9918\n",
            "Epoch 41/50\n",
            "364/364 [==============================] - 0s 556us/step - loss: 0.0333 - acc: 0.9918\n",
            "Epoch 42/50\n",
            "364/364 [==============================] - 0s 534us/step - loss: 0.0205 - acc: 0.9945\n",
            "Epoch 43/50\n",
            "364/364 [==============================] - 0s 546us/step - loss: 0.0148 - acc: 0.9973\n",
            "Epoch 44/50\n",
            "364/364 [==============================] - 0s 575us/step - loss: 0.0140 - acc: 0.9945\n",
            "Epoch 45/50\n",
            "364/364 [==============================] - 0s 531us/step - loss: 0.0124 - acc: 0.9973\n",
            "Epoch 46/50\n",
            "364/364 [==============================] - 0s 532us/step - loss: 0.0112 - acc: 0.9973\n",
            "Epoch 47/50\n",
            "364/364 [==============================] - 0s 525us/step - loss: 0.0104 - acc: 0.9973\n",
            "Epoch 48/50\n",
            "364/364 [==============================] - 0s 534us/step - loss: 0.0099 - acc: 0.9973\n",
            "Epoch 49/50\n",
            "364/364 [==============================] - 0s 571us/step - loss: 0.0096 - acc: 0.9973\n",
            "Epoch 50/50\n",
            "364/364 [==============================] - 0s 543us/step - loss: 0.0092 - acc: 0.9973\n"
          ],
          "name": "stdout"
        }
      ]
    },
    {
      "cell_type": "code",
      "metadata": {
        "id": "pVvxDlISQqPN",
        "colab_type": "code",
        "colab": {}
      },
      "source": [
        "from matplotlib import pyplot as plt"
      ],
      "execution_count": 0,
      "outputs": []
    },
    {
      "cell_type": "code",
      "metadata": {
        "id": "NPQoCEAFBsGv",
        "colab_type": "code",
        "outputId": "20807150-4122-492a-8fcf-5cdd6067c985",
        "colab": {
          "base_uri": "https://localhost:8080/",
          "height": 295
        }
      },
      "source": [
        "plt.plot(history.history['acc'])\n",
        "plt.plot(history.history['acc'])\n",
        "plt.title('model accuracy')\n",
        "plt.ylabel('accuracy')\n",
        "plt.xlabel('epoch')\n",
        "plt.legend(['train', 'test'], loc='upper left')\n",
        "plt.show()"
      ],
      "execution_count": 35,
      "outputs": [
        {
          "output_type": "display_data",
          "data": {
            "image/png": "[encoded data removed]",
            "text/plain": [
              "<Figure size 432x288 with 1 Axes>"
            ]
          },
          "metadata": {
            "tags": [],
            "needs_background": "light"
          }
        }
      ]
    },
    {
      "cell_type": "code",
      "metadata": {
        "id": "YsGK_nsoDB7b",
        "colab_type": "code",
        "outputId": "29d38404-640f-4721-9fb8-7191841c959a",
        "colab": {
          "base_uri": "https://localhost:8080/",
          "height": 295
        }
      },
      "source": [
        "plt.plot(history.history['loss'])\n",
        "plt.plot(history.history['loss'])\n",
        "plt.title('model loss')\n",
        "plt.ylabel('loss')\n",
        "plt.xlabel('epoch')\n",
        "plt.legend(['train', 'test'], loc='upper left')\n",
        "plt.show()"
      ],
      "execution_count": 36,
      "outputs": [
        {
          "output_type": "display_data",
          "data": {
            "image/png": "[encoded data removed]",
            "text/plain": [
              "<Figure size 432x288 with 1 Axes>"
            ]
          },
          "metadata": {
            "tags": [],
            "needs_background": "light"
          }
        }
      ]
    },
    {
      "cell_type": "code",
      "metadata": {
        "id": "Uydd-7ClDDpN",
        "colab_type": "code",
        "colab": {}
      },
      "source": [
        "pred = model.predict_classes(test_img)\n",
        "pred = encoder.inverse_transform(pred)\n",
        "result = pd.DataFrame(pred, test_data[\"Image\"], columns=[\"target\"])\n",
        "result.to_csv(\"sample1.csv\")"
      ],
      "execution_count": 0,
      "outputs": []
    },
    {
      "cell_type": "markdown",
      "metadata": {
        "id": "zul1pH7LoWkW",
        "colab_type": "text"
      },
      "source": [
        "Resnet"
      ]
    },
    {
      "cell_type": "code",
      "metadata": {
        "id": "NBgtWvVnoVt_",
        "colab_type": "code",
        "colab": {}
      },
      "source": [
        "from tensorflow.keras.applications.resnet50 import ResNet50\n",
        "from tensorflow.keras.models import Sequential\n",
        "from tensorflow.keras.callbacks import EarlyStopping\n",
        "from tensorflow.keras.layers import Dense, Dropout\n",
        "from tensorflow.keras.utils import to_categorical\n",
        "from tensorflow.keras.preprocessing.image import ImageDataGenerator"
      ],
      "execution_count": 0,
      "outputs": []
    },
    {
      "cell_type": "code",
      "metadata": {
        "id": "tsv7pUcxoVqU",
        "colab_type": "code",
        "colab": {
          "base_uri": "https://localhost:8080/",
          "height": 71
        },
        "outputId": "27bb89c3-7945-408e-ed27-e89bec49ffb1"
      },
      "source": [
        "base_model = ResNet50(\n",
        "    weights='imagenet',\n",
        "    include_top=False, \n",
        "    input_shape=(224, 224, 3), \n",
        "    pooling='avg'\n",
        ")"
      ],
      "execution_count": 39,
      "outputs": [
        {
          "output_type": "stream",
          "text": [
            "Downloading data from https://storage.googleapis.com/tensorflow/keras-applications/resnet/resnet50_weights_tf_dim_ordering_tf_kernels_notop.h5\n",
            "94773248/94765736 [==============================] - 1s 0us/step\n"
          ],
          "name": "stdout"
        }
      ]
    },
    {
      "cell_type": "code",
      "metadata": {
        "id": "11xR-sCxoVof",
        "colab_type": "code",
        "outputId": "897710e3-9320-46cf-8190-647a3f313d4f",
        "colab": {
          "base_uri": "https://localhost:8080/",
          "height": 255
        }
      },
      "source": [
        "base_model.trainable = False\n",
        "\n",
        "model = Sequential([\n",
        "  base_model,\n",
        "  Dropout(0.2),\n",
        "  Dense(8, activation='softmax')\n",
        "])\n",
        "\n",
        "model.compile(loss='categorical_crossentropy', optimizer='adam', metrics=['accuracy'])\n",
        "model.summary()"
      ],
      "execution_count": 40,
      "outputs": [
        {
          "output_type": "stream",
          "text": [
            "Model: \"sequential\"\n",
            "_________________________________________________________________\n",
            "Layer (type)                 Output Shape              Param #   \n",
            "=================================================================\n",
            "resnet50 (Model)             (None, 2048)              23587712  \n",
            "_________________________________________________________________\n",
            "dropout (Dropout)            (None, 2048)              0         \n",
            "_________________________________________________________________\n",
            "dense (Dense)                (None, 8)                 16392     \n",
            "=================================================================\n",
            "Total params: 23,604,104\n",
            "Trainable params: 16,392\n",
            "Non-trainable params: 23,587,712\n",
            "_________________________________________________________________\n"
          ],
          "name": "stdout"
        }
      ]
    },
    {
      "cell_type": "code",
      "metadata": {
        "id": "OlwnFLYdoVlR",
        "colab_type": "code",
        "colab": {}
      },
      "source": [
        "from tensorflow.keras.callbacks import ModelCheckpoint\n",
        "checkpoint = ModelCheckpoint('best_model.h5',\n",
        "                             monitor='val_loss', \n",
        "                             verbose=1, save_best_only= True, \n",
        "                             mode='auto')    "
      ],
      "execution_count": 0,
      "outputs": []
    },
    {
      "cell_type": "code",
      "metadata": {
        "id": "BPjPzs8aoViP",
        "colab_type": "code",
        "colab": {}
      },
      "source": [
        "batch_size =5\n",
        "epochs = 100"
      ],
      "execution_count": 0,
      "outputs": []
    },
    {
      "cell_type": "code",
      "metadata": {
        "id": "QS9NWO4ioVeF",
        "colab_type": "code",
        "outputId": "ca1df840-57d9-4ad6-b859-1c0586829383",
        "colab": {
          "base_uri": "https://localhost:8080/",
          "height": 1000
        }
      },
      "source": [
        "datagen = ImageDataGenerator(\n",
        "        shear_range=0.2,\n",
        "        zoom_range=0.2,\n",
        "        horizontal_flip=True)\n",
        "\n",
        "training_generator = datagen.flow(train_img, dummy_y,\n",
        "                                  batch_size=batch_size)\n",
        "\n",
        "history = model.fit_generator(\n",
        "         training_generator,\n",
        "         steps_per_epoch= training_generator.n//training_generator.batch_size,\n",
        "         callbacks=[checkpoint],\n",
        "         epochs= epochs)"
      ],
      "execution_count": 43,
      "outputs": [
        {
          "output_type": "stream",
          "text": [
            "WARNING:tensorflow:From <ipython-input-43-b1a96aceacbf>:13: Model.fit_generator (from tensorflow.python.keras.engine.training) is deprecated and will be removed in a future version.\n",
            "Instructions for updating:\n",
            "Please use Model.fit, which supports generators.\n",
            "Epoch 1/100\n",
            "72/72 [==============================] - ETA: 0s - loss: 2.1628 - accuracy: 0.2841WARNING:tensorflow:Can save best model only with val_loss available, skipping.\n",
            "72/72 [==============================] - 4s 55ms/step - loss: 2.1628 - accuracy: 0.2841\n",
            "Epoch 2/100\n",
            "72/72 [==============================] - ETA: 0s - loss: 1.0773 - accuracy: 0.6379WARNING:tensorflow:Can save best model only with val_loss available, skipping.\n",
            "72/72 [==============================] - 4s 55ms/step - loss: 1.0773 - accuracy: 0.6379\n",
            "Epoch 3/100\n",
            "72/72 [==============================] - ETA: 0s - loss: 0.8990 - accuracy: 0.6769WARNING:tensorflow:Can save best model only with val_loss available, skipping.\n",
            "72/72 [==============================] - 4s 54ms/step - loss: 0.8990 - accuracy: 0.6769\n",
            "Epoch 4/100\n",
            "72/72 [==============================] - ETA: 0s - loss: 0.7075 - accuracy: 0.7604WARNING:tensorflow:Can save best model only with val_loss available, skipping.\n",
            "72/72 [==============================] - 4s 54ms/step - loss: 0.7075 - accuracy: 0.7604\n",
            "Epoch 5/100\n",
            "72/72 [==============================] - ETA: 0s - loss: 0.5370 - accuracy: 0.8357WARNING:tensorflow:Can save best model only with val_loss available, skipping.\n",
            "72/72 [==============================] - 4s 54ms/step - loss: 0.5370 - accuracy: 0.8357\n",
            "Epoch 6/100\n",
            "72/72 [==============================] - ETA: 0s - loss: 0.5183 - accuracy: 0.8189WARNING:tensorflow:Can save best model only with val_loss available, skipping.\n",
            "72/72 [==============================] - 4s 52ms/step - loss: 0.5183 - accuracy: 0.8189\n",
            "Epoch 7/100\n",
            "72/72 [==============================] - ETA: 0s - loss: 0.4181 - accuracy: 0.8635WARNING:tensorflow:Can save best model only with val_loss available, skipping.\n",
            "72/72 [==============================] - 4s 54ms/step - loss: 0.4181 - accuracy: 0.8635\n",
            "Epoch 8/100\n",
            "72/72 [==============================] - ETA: 0s - loss: 0.4669 - accuracy: 0.8496WARNING:tensorflow:Can save best model only with val_loss available, skipping.\n",
            "72/72 [==============================] - 4s 54ms/step - loss: 0.4669 - accuracy: 0.8496\n",
            "Epoch 9/100\n",
            "72/72 [==============================] - ETA: 0s - loss: 0.2834 - accuracy: 0.9220WARNING:tensorflow:Can save best model only with val_loss available, skipping.\n",
            "72/72 [==============================] - 4s 55ms/step - loss: 0.2834 - accuracy: 0.9220\n",
            "Epoch 10/100\n",
            "72/72 [==============================] - ETA: 0s - loss: 0.2972 - accuracy: 0.9081WARNING:tensorflow:Can save best model only with val_loss available, skipping.\n",
            "72/72 [==============================] - 4s 54ms/step - loss: 0.2972 - accuracy: 0.9081\n",
            "Epoch 11/100\n",
            "72/72 [==============================] - ETA: 0s - loss: 0.2649 - accuracy: 0.9164WARNING:tensorflow:Can save best model only with val_loss available, skipping.\n",
            "72/72 [==============================] - 4s 54ms/step - loss: 0.2649 - accuracy: 0.9164\n",
            "Epoch 12/100\n",
            "72/72 [==============================] - ETA: 0s - loss: 0.2596 - accuracy: 0.9248WARNING:tensorflow:Can save best model only with val_loss available, skipping.\n",
            "72/72 [==============================] - 4s 54ms/step - loss: 0.2596 - accuracy: 0.9248\n",
            "Epoch 13/100\n",
            "72/72 [==============================] - ETA: 0s - loss: 0.1916 - accuracy: 0.9526WARNING:tensorflow:Can save best model only with val_loss available, skipping.\n",
            "72/72 [==============================] - 4s 54ms/step - loss: 0.1916 - accuracy: 0.9526\n",
            "Epoch 14/100\n",
            "72/72 [==============================] - ETA: 0s - loss: 0.2518 - accuracy: 0.9220WARNING:tensorflow:Can save best model only with val_loss available, skipping.\n",
            "72/72 [==============================] - 4s 53ms/step - loss: 0.2518 - accuracy: 0.9220\n",
            "Epoch 15/100\n",
            "72/72 [==============================] - ETA: 0s - loss: 0.1576 - accuracy: 0.9582WARNING:tensorflow:Can save best model only with val_loss available, skipping.\n",
            "72/72 [==============================] - 4s 53ms/step - loss: 0.1576 - accuracy: 0.9582\n",
            "Epoch 16/100\n",
            "72/72 [==============================] - ETA: 0s - loss: 0.2040 - accuracy: 0.9443WARNING:tensorflow:Can save best model only with val_loss available, skipping.\n",
            "72/72 [==============================] - 4s 53ms/step - loss: 0.2040 - accuracy: 0.9443\n",
            "Epoch 17/100\n",
            "72/72 [==============================] - ETA: 0s - loss: 0.1581 - accuracy: 0.9610WARNING:tensorflow:Can save best model only with val_loss available, skipping.\n",
            "72/72 [==============================] - 4s 53ms/step - loss: 0.1581 - accuracy: 0.9610\n",
            "Epoch 18/100\n",
            "72/72 [==============================] - ETA: 0s - loss: 0.2226 - accuracy: 0.9331WARNING:tensorflow:Can save best model only with val_loss available, skipping.\n",
            "72/72 [==============================] - 4s 54ms/step - loss: 0.2226 - accuracy: 0.9331\n",
            "Epoch 19/100\n",
            "72/72 [==============================] - ETA: 0s - loss: 0.1219 - accuracy: 0.9721WARNING:tensorflow:Can save best model only with val_loss available, skipping.\n",
            "72/72 [==============================] - 4s 54ms/step - loss: 0.1219 - accuracy: 0.9721\n",
            "Epoch 20/100\n",
            "72/72 [==============================] - ETA: 0s - loss: 0.1418 - accuracy: 0.9610WARNING:tensorflow:Can save best model only with val_loss available, skipping.\n",
            "72/72 [==============================] - 4s 54ms/step - loss: 0.1418 - accuracy: 0.9610\n",
            "Epoch 21/100\n",
            "72/72 [==============================] - ETA: 0s - loss: 0.1387 - accuracy: 0.9694WARNING:tensorflow:Can save best model only with val_loss available, skipping.\n",
            "72/72 [==============================] - 4s 54ms/step - loss: 0.1387 - accuracy: 0.9694\n",
            "Epoch 22/100\n",
            "72/72 [==============================] - ETA: 0s - loss: 0.1435 - accuracy: 0.9610WARNING:tensorflow:Can save best model only with val_loss available, skipping.\n",
            "72/72 [==============================] - 4s 54ms/step - loss: 0.1435 - accuracy: 0.9610\n",
            "Epoch 23/100\n",
            "72/72 [==============================] - ETA: 0s - loss: 0.1650 - accuracy: 0.9471WARNING:tensorflow:Can save best model only with val_loss available, skipping.\n",
            "72/72 [==============================] - 4s 54ms/step - loss: 0.1650 - accuracy: 0.9471\n",
            "Epoch 24/100\n",
            "72/72 [==============================] - ETA: 0s - loss: 0.0879 - accuracy: 0.9889WARNING:tensorflow:Can save best model only with val_loss available, skipping.\n",
            "72/72 [==============================] - 4s 53ms/step - loss: 0.0879 - accuracy: 0.9889\n",
            "Epoch 25/100\n",
            "72/72 [==============================] - ETA: 0s - loss: 0.1124 - accuracy: 0.9721WARNING:tensorflow:Can save best model only with val_loss available, skipping.\n",
            "72/72 [==============================] - 4s 53ms/step - loss: 0.1124 - accuracy: 0.9721\n",
            "Epoch 26/100\n",
            "72/72 [==============================] - ETA: 0s - loss: 0.1262 - accuracy: 0.9638WARNING:tensorflow:Can save best model only with val_loss available, skipping.\n",
            "72/72 [==============================] - 4s 54ms/step - loss: 0.1262 - accuracy: 0.9638\n",
            "Epoch 27/100\n",
            "72/72 [==============================] - ETA: 0s - loss: 0.1064 - accuracy: 0.9666WARNING:tensorflow:Can save best model only with val_loss available, skipping.\n",
            "72/72 [==============================] - 4s 52ms/step - loss: 0.1064 - accuracy: 0.9666\n",
            "Epoch 28/100\n",
            "72/72 [==============================] - ETA: 0s - loss: 0.1151 - accuracy: 0.9721WARNING:tensorflow:Can save best model only with val_loss available, skipping.\n",
            "72/72 [==============================] - 4s 52ms/step - loss: 0.1151 - accuracy: 0.9721\n",
            "Epoch 29/100\n",
            "72/72 [==============================] - ETA: 0s - loss: 0.1137 - accuracy: 0.9638WARNING:tensorflow:Can save best model only with val_loss available, skipping.\n",
            "72/72 [==============================] - 4s 53ms/step - loss: 0.1137 - accuracy: 0.9638\n",
            "Epoch 30/100\n",
            "72/72 [==============================] - ETA: 0s - loss: 0.1077 - accuracy: 0.9721WARNING:tensorflow:Can save best model only with val_loss available, skipping.\n",
            "72/72 [==============================] - 4s 54ms/step - loss: 0.1077 - accuracy: 0.9721\n",
            "Epoch 31/100\n",
            "72/72 [==============================] - ETA: 0s - loss: 0.0903 - accuracy: 0.9721WARNING:tensorflow:Can save best model only with val_loss available, skipping.\n",
            "72/72 [==============================] - 4s 54ms/step - loss: 0.0903 - accuracy: 0.9721\n",
            "Epoch 32/100\n",
            "72/72 [==============================] - ETA: 0s - loss: 0.0902 - accuracy: 0.9721WARNING:tensorflow:Can save best model only with val_loss available, skipping.\n",
            "72/72 [==============================] - 4s 53ms/step - loss: 0.0902 - accuracy: 0.9721\n",
            "Epoch 33/100\n",
            "72/72 [==============================] - ETA: 0s - loss: 0.0621 - accuracy: 0.9889WARNING:tensorflow:Can save best model only with val_loss available, skipping.\n",
            "72/72 [==============================] - 4s 53ms/step - loss: 0.0621 - accuracy: 0.9889\n",
            "Epoch 34/100\n",
            "72/72 [==============================] - ETA: 0s - loss: 0.0825 - accuracy: 0.9721WARNING:tensorflow:Can save best model only with val_loss available, skipping.\n",
            "72/72 [==============================] - 4s 54ms/step - loss: 0.0825 - accuracy: 0.9721\n",
            "Epoch 35/100\n",
            "72/72 [==============================] - ETA: 0s - loss: 0.0953 - accuracy: 0.9694WARNING:tensorflow:Can save best model only with val_loss available, skipping.\n",
            "72/72 [==============================] - 4s 54ms/step - loss: 0.0953 - accuracy: 0.9694\n",
            "Epoch 36/100\n",
            "72/72 [==============================] - ETA: 0s - loss: 0.0891 - accuracy: 0.9749WARNING:tensorflow:Can save best model only with val_loss available, skipping.\n",
            "72/72 [==============================] - 4s 53ms/step - loss: 0.0891 - accuracy: 0.9749\n",
            "Epoch 37/100\n",
            "72/72 [==============================] - ETA: 0s - loss: 0.0621 - accuracy: 0.9861WARNING:tensorflow:Can save best model only with val_loss available, skipping.\n",
            "72/72 [==============================] - 4s 53ms/step - loss: 0.0621 - accuracy: 0.9861\n",
            "Epoch 38/100\n",
            "72/72 [==============================] - ETA: 0s - loss: 0.1160 - accuracy: 0.9582WARNING:tensorflow:Can save best model only with val_loss available, skipping.\n",
            "72/72 [==============================] - 4s 53ms/step - loss: 0.1160 - accuracy: 0.9582\n",
            "Epoch 39/100\n",
            "72/72 [==============================] - ETA: 0s - loss: 0.0930 - accuracy: 0.9666WARNING:tensorflow:Can save best model only with val_loss available, skipping.\n",
            "72/72 [==============================] - 4s 53ms/step - loss: 0.0930 - accuracy: 0.9666\n",
            "Epoch 40/100\n",
            "72/72 [==============================] - ETA: 0s - loss: 0.0792 - accuracy: 0.9833WARNING:tensorflow:Can save best model only with val_loss available, skipping.\n",
            "72/72 [==============================] - 4s 54ms/step - loss: 0.0792 - accuracy: 0.9833\n",
            "Epoch 41/100\n",
            "72/72 [==============================] - ETA: 0s - loss: 0.0908 - accuracy: 0.9694WARNING:tensorflow:Can save best model only with val_loss available, skipping.\n",
            "72/72 [==============================] - 4s 55ms/step - loss: 0.0908 - accuracy: 0.9694\n",
            "Epoch 42/100\n",
            "72/72 [==============================] - ETA: 0s - loss: 0.0747 - accuracy: 0.9833WARNING:tensorflow:Can save best model only with val_loss available, skipping.\n",
            "72/72 [==============================] - 4s 55ms/step - loss: 0.0747 - accuracy: 0.9833\n",
            "Epoch 43/100\n",
            "72/72 [==============================] - ETA: 0s - loss: 0.0637 - accuracy: 0.9805WARNING:tensorflow:Can save best model only with val_loss available, skipping.\n",
            "72/72 [==============================] - 4s 54ms/step - loss: 0.0637 - accuracy: 0.9805\n",
            "Epoch 44/100\n",
            "72/72 [==============================] - ETA: 0s - loss: 0.0699 - accuracy: 0.9777WARNING:tensorflow:Can save best model only with val_loss available, skipping.\n",
            "72/72 [==============================] - 4s 53ms/step - loss: 0.0699 - accuracy: 0.9777\n",
            "Epoch 45/100\n",
            "72/72 [==============================] - ETA: 0s - loss: 0.0592 - accuracy: 0.9833WARNING:tensorflow:Can save best model only with val_loss available, skipping.\n",
            "72/72 [==============================] - 4s 54ms/step - loss: 0.0592 - accuracy: 0.9833\n",
            "Epoch 46/100\n",
            "72/72 [==============================] - ETA: 0s - loss: 0.0695 - accuracy: 0.9861WARNING:tensorflow:Can save best model only with val_loss available, skipping.\n",
            "72/72 [==============================] - 4s 53ms/step - loss: 0.0695 - accuracy: 0.9861\n",
            "Epoch 47/100\n",
            "72/72 [==============================] - ETA: 0s - loss: 0.0551 - accuracy: 0.9861WARNING:tensorflow:Can save best model only with val_loss available, skipping.\n",
            "72/72 [==============================] - 4s 52ms/step - loss: 0.0551 - accuracy: 0.9861\n",
            "Epoch 48/100\n",
            "72/72 [==============================] - ETA: 0s - loss: 0.0477 - accuracy: 0.9861WARNING:tensorflow:Can save best model only with val_loss available, skipping.\n",
            "72/72 [==============================] - 4s 53ms/step - loss: 0.0477 - accuracy: 0.9861\n",
            "Epoch 49/100\n",
            "72/72 [==============================] - ETA: 0s - loss: 0.0460 - accuracy: 0.9889WARNING:tensorflow:Can save best model only with val_loss available, skipping.\n",
            "72/72 [==============================] - 4s 54ms/step - loss: 0.0460 - accuracy: 0.9889\n",
            "Epoch 50/100\n",
            "72/72 [==============================] - ETA: 0s - loss: 0.0574 - accuracy: 0.9833WARNING:tensorflow:Can save best model only with val_loss available, skipping.\n",
            "72/72 [==============================] - 4s 54ms/step - loss: 0.0574 - accuracy: 0.9833\n",
            "Epoch 51/100\n",
            "72/72 [==============================] - ETA: 0s - loss: 0.0413 - accuracy: 0.9916WARNING:tensorflow:Can save best model only with val_loss available, skipping.\n",
            "72/72 [==============================] - 4s 54ms/step - loss: 0.0413 - accuracy: 0.9916\n",
            "Epoch 52/100\n",
            "72/72 [==============================] - ETA: 0s - loss: 0.0501 - accuracy: 0.9833WARNING:tensorflow:Can save best model only with val_loss available, skipping.\n",
            "72/72 [==============================] - 4s 54ms/step - loss: 0.0501 - accuracy: 0.9833\n",
            "Epoch 53/100\n",
            "72/72 [==============================] - ETA: 0s - loss: 0.0524 - accuracy: 0.9972WARNING:tensorflow:Can save best model only with val_loss available, skipping.\n",
            "72/72 [==============================] - 4s 53ms/step - loss: 0.0524 - accuracy: 0.9972\n",
            "Epoch 54/100\n",
            "72/72 [==============================] - ETA: 0s - loss: 0.0323 - accuracy: 0.9944WARNING:tensorflow:Can save best model only with val_loss available, skipping.\n",
            "72/72 [==============================] - 4s 54ms/step - loss: 0.0323 - accuracy: 0.9944\n",
            "Epoch 55/100\n",
            "72/72 [==============================] - ETA: 0s - loss: 0.0252 - accuracy: 1.0000WARNING:tensorflow:Can save best model only with val_loss available, skipping.\n",
            "72/72 [==============================] - 4s 53ms/step - loss: 0.0252 - accuracy: 1.0000\n",
            "Epoch 56/100\n",
            "72/72 [==============================] - ETA: 0s - loss: 0.0401 - accuracy: 0.9944WARNING:tensorflow:Can save best model only with val_loss available, skipping.\n",
            "72/72 [==============================] - 4s 54ms/step - loss: 0.0401 - accuracy: 0.9944\n",
            "Epoch 57/100\n",
            "72/72 [==============================] - ETA: 0s - loss: 0.0687 - accuracy: 0.9777WARNING:tensorflow:Can save best model only with val_loss available, skipping.\n",
            "72/72 [==============================] - 4s 54ms/step - loss: 0.0687 - accuracy: 0.9777\n",
            "Epoch 58/100\n",
            "72/72 [==============================] - ETA: 0s - loss: 0.0411 - accuracy: 0.9889WARNING:tensorflow:Can save best model only with val_loss available, skipping.\n",
            "72/72 [==============================] - 4s 53ms/step - loss: 0.0411 - accuracy: 0.9889\n",
            "Epoch 59/100\n",
            "72/72 [==============================] - ETA: 0s - loss: 0.0653 - accuracy: 0.9833WARNING:tensorflow:Can save best model only with val_loss available, skipping.\n",
            "72/72 [==============================] - 4s 53ms/step - loss: 0.0653 - accuracy: 0.9833\n",
            "Epoch 60/100\n",
            "72/72 [==============================] - ETA: 0s - loss: 0.0757 - accuracy: 0.9721WARNING:tensorflow:Can save best model only with val_loss available, skipping.\n",
            "72/72 [==============================] - 4s 54ms/step - loss: 0.0757 - accuracy: 0.9721\n",
            "Epoch 61/100\n",
            "72/72 [==============================] - ETA: 0s - loss: 0.0568 - accuracy: 0.9889WARNING:tensorflow:Can save best model only with val_loss available, skipping.\n",
            "72/72 [==============================] - 4s 54ms/step - loss: 0.0568 - accuracy: 0.9889\n",
            "Epoch 62/100\n",
            "72/72 [==============================] - ETA: 0s - loss: 0.0586 - accuracy: 0.9805WARNING:tensorflow:Can save best model only with val_loss available, skipping.\n",
            "72/72 [==============================] - 4s 54ms/step - loss: 0.0586 - accuracy: 0.9805\n",
            "Epoch 63/100\n",
            "72/72 [==============================] - ETA: 0s - loss: 0.0557 - accuracy: 0.9777WARNING:tensorflow:Can save best model only with val_loss available, skipping.\n",
            "72/72 [==============================] - 4s 54ms/step - loss: 0.0557 - accuracy: 0.9777\n",
            "Epoch 64/100\n",
            "72/72 [==============================] - ETA: 0s - loss: 0.0529 - accuracy: 0.9861WARNING:tensorflow:Can save best model only with val_loss available, skipping.\n",
            "72/72 [==============================] - 4s 54ms/step - loss: 0.0529 - accuracy: 0.9861\n",
            "Epoch 65/100\n",
            "72/72 [==============================] - ETA: 0s - loss: 0.0417 - accuracy: 0.9916WARNING:tensorflow:Can save best model only with val_loss available, skipping.\n",
            "72/72 [==============================] - 4s 54ms/step - loss: 0.0417 - accuracy: 0.9916\n",
            "Epoch 66/100\n",
            "72/72 [==============================] - ETA: 0s - loss: 0.0932 - accuracy: 0.9666WARNING:tensorflow:Can save best model only with val_loss available, skipping.\n",
            "72/72 [==============================] - 4s 54ms/step - loss: 0.0932 - accuracy: 0.9666\n",
            "Epoch 67/100\n",
            "72/72 [==============================] - ETA: 0s - loss: 0.0542 - accuracy: 0.9777WARNING:tensorflow:Can save best model only with val_loss available, skipping.\n",
            "72/72 [==============================] - 4s 54ms/step - loss: 0.0542 - accuracy: 0.9777\n",
            "Epoch 68/100\n",
            "72/72 [==============================] - ETA: 0s - loss: 0.0540 - accuracy: 0.9777WARNING:tensorflow:Can save best model only with val_loss available, skipping.\n",
            "72/72 [==============================] - 4s 54ms/step - loss: 0.0540 - accuracy: 0.9777\n",
            "Epoch 69/100\n",
            "72/72 [==============================] - ETA: 0s - loss: 0.0395 - accuracy: 0.9889WARNING:tensorflow:Can save best model only with val_loss available, skipping.\n",
            "72/72 [==============================] - 4s 54ms/step - loss: 0.0395 - accuracy: 0.9889\n",
            "Epoch 70/100\n",
            "72/72 [==============================] - ETA: 0s - loss: 0.0295 - accuracy: 0.9916WARNING:tensorflow:Can save best model only with val_loss available, skipping.\n",
            "72/72 [==============================] - 4s 54ms/step - loss: 0.0295 - accuracy: 0.9916\n",
            "Epoch 71/100\n",
            "72/72 [==============================] - ETA: 0s - loss: 0.0637 - accuracy: 0.9805WARNING:tensorflow:Can save best model only with val_loss available, skipping.\n",
            "72/72 [==============================] - 4s 53ms/step - loss: 0.0637 - accuracy: 0.9805\n",
            "Epoch 72/100\n",
            "72/72 [==============================] - ETA: 0s - loss: 0.0425 - accuracy: 0.9889WARNING:tensorflow:Can save best model only with val_loss available, skipping.\n",
            "72/72 [==============================] - 4s 52ms/step - loss: 0.0425 - accuracy: 0.9889\n",
            "Epoch 73/100\n",
            "72/72 [==============================] - ETA: 0s - loss: 0.0234 - accuracy: 0.9944WARNING:tensorflow:Can save best model only with val_loss available, skipping.\n",
            "72/72 [==============================] - 4s 53ms/step - loss: 0.0234 - accuracy: 0.9944\n",
            "Epoch 74/100\n",
            "72/72 [==============================] - ETA: 0s - loss: 0.0493 - accuracy: 0.9833WARNING:tensorflow:Can save best model only with val_loss available, skipping.\n",
            "72/72 [==============================] - 4s 55ms/step - loss: 0.0493 - accuracy: 0.9833\n",
            "Epoch 75/100\n",
            "72/72 [==============================] - ETA: 0s - loss: 0.0559 - accuracy: 0.9861WARNING:tensorflow:Can save best model only with val_loss available, skipping.\n",
            "72/72 [==============================] - 4s 55ms/step - loss: 0.0559 - accuracy: 0.9861\n",
            "Epoch 76/100\n",
            "72/72 [==============================] - ETA: 0s - loss: 0.0376 - accuracy: 0.9861WARNING:tensorflow:Can save best model only with val_loss available, skipping.\n",
            "72/72 [==============================] - 4s 55ms/step - loss: 0.0376 - accuracy: 0.9861\n",
            "Epoch 77/100\n",
            "72/72 [==============================] - ETA: 0s - loss: 0.0433 - accuracy: 0.9889WARNING:tensorflow:Can save best model only with val_loss available, skipping.\n",
            "72/72 [==============================] - 4s 53ms/step - loss: 0.0433 - accuracy: 0.9889\n",
            "Epoch 78/100\n",
            "72/72 [==============================] - ETA: 0s - loss: 0.0253 - accuracy: 0.9916WARNING:tensorflow:Can save best model only with val_loss available, skipping.\n",
            "72/72 [==============================] - 4s 54ms/step - loss: 0.0253 - accuracy: 0.9916\n",
            "Epoch 79/100\n",
            "72/72 [==============================] - ETA: 0s - loss: 0.0339 - accuracy: 0.9916WARNING:tensorflow:Can save best model only with val_loss available, skipping.\n",
            "72/72 [==============================] - 4s 54ms/step - loss: 0.0339 - accuracy: 0.9916\n",
            "Epoch 80/100\n",
            "72/72 [==============================] - ETA: 0s - loss: 0.0420 - accuracy: 0.9889WARNING:tensorflow:Can save best model only with val_loss available, skipping.\n",
            "72/72 [==============================] - 4s 54ms/step - loss: 0.0420 - accuracy: 0.9889\n",
            "Epoch 81/100\n",
            "72/72 [==============================] - ETA: 0s - loss: 0.0816 - accuracy: 0.9694WARNING:tensorflow:Can save best model only with val_loss available, skipping.\n",
            "72/72 [==============================] - 4s 54ms/step - loss: 0.0816 - accuracy: 0.9694\n",
            "Epoch 82/100\n",
            "72/72 [==============================] - ETA: 0s - loss: 0.0323 - accuracy: 0.9944WARNING:tensorflow:Can save best model only with val_loss available, skipping.\n",
            "72/72 [==============================] - 4s 55ms/step - loss: 0.0323 - accuracy: 0.9944\n",
            "Epoch 83/100\n",
            "72/72 [==============================] - ETA: 0s - loss: 0.0273 - accuracy: 0.9944WARNING:tensorflow:Can save best model only with val_loss available, skipping.\n",
            "72/72 [==============================] - 4s 54ms/step - loss: 0.0273 - accuracy: 0.9944\n",
            "Epoch 84/100\n",
            "72/72 [==============================] - ETA: 0s - loss: 0.0157 - accuracy: 1.0000WARNING:tensorflow:Can save best model only with val_loss available, skipping.\n",
            "72/72 [==============================] - 4s 54ms/step - loss: 0.0157 - accuracy: 1.0000\n",
            "Epoch 85/100\n",
            "72/72 [==============================] - ETA: 0s - loss: 0.0359 - accuracy: 0.9916WARNING:tensorflow:Can save best model only with val_loss available, skipping.\n",
            "72/72 [==============================] - 4s 54ms/step - loss: 0.0359 - accuracy: 0.9916\n",
            "Epoch 86/100\n",
            "71/72 [============================>.] - ETA: 0s - loss: 0.0569 - accuracy: 0.9859WARNING:tensorflow:Can save best model only with val_loss available, skipping.\n",
            "72/72 [==============================] - 4s 53ms/step - loss: 0.0563 - accuracy: 0.9861\n",
            "Epoch 87/100\n",
            "72/72 [==============================] - ETA: 0s - loss: 0.0533 - accuracy: 0.9833WARNING:tensorflow:Can save best model only with val_loss available, skipping.\n",
            "72/72 [==============================] - 4s 54ms/step - loss: 0.0533 - accuracy: 0.9833\n",
            "Epoch 88/100\n",
            "72/72 [==============================] - ETA: 0s - loss: 0.0805 - accuracy: 0.9694WARNING:tensorflow:Can save best model only with val_loss available, skipping.\n",
            "72/72 [==============================] - 4s 53ms/step - loss: 0.0805 - accuracy: 0.9694\n",
            "Epoch 89/100\n",
            "72/72 [==============================] - ETA: 0s - loss: 0.0872 - accuracy: 0.9721WARNING:tensorflow:Can save best model only with val_loss available, skipping.\n",
            "72/72 [==============================] - 4s 52ms/step - loss: 0.0872 - accuracy: 0.9721\n",
            "Epoch 90/100\n",
            "72/72 [==============================] - ETA: 0s - loss: 0.0234 - accuracy: 0.9944WARNING:tensorflow:Can save best model only with val_loss available, skipping.\n",
            "72/72 [==============================] - 4s 54ms/step - loss: 0.0234 - accuracy: 0.9944\n",
            "Epoch 91/100\n",
            "72/72 [==============================] - ETA: 0s - loss: 0.0160 - accuracy: 0.9972WARNING:tensorflow:Can save best model only with val_loss available, skipping.\n",
            "72/72 [==============================] - 4s 54ms/step - loss: 0.0160 - accuracy: 0.9972\n",
            "Epoch 92/100\n",
            "72/72 [==============================] - ETA: 0s - loss: 0.0235 - accuracy: 0.9972WARNING:tensorflow:Can save best model only with val_loss available, skipping.\n",
            "72/72 [==============================] - 4s 54ms/step - loss: 0.0235 - accuracy: 0.9972\n",
            "Epoch 93/100\n",
            "72/72 [==============================] - ETA: 0s - loss: 0.0650 - accuracy: 0.9833WARNING:tensorflow:Can save best model only with val_loss available, skipping.\n",
            "72/72 [==============================] - 4s 54ms/step - loss: 0.0650 - accuracy: 0.9833\n",
            "Epoch 94/100\n",
            "72/72 [==============================] - ETA: 0s - loss: 0.0670 - accuracy: 0.9777WARNING:tensorflow:Can save best model only with val_loss available, skipping.\n",
            "72/72 [==============================] - 4s 53ms/step - loss: 0.0670 - accuracy: 0.9777\n",
            "Epoch 95/100\n",
            "72/72 [==============================] - ETA: 0s - loss: 0.0410 - accuracy: 0.9833WARNING:tensorflow:Can save best model only with val_loss available, skipping.\n",
            "72/72 [==============================] - 4s 54ms/step - loss: 0.0410 - accuracy: 0.9833\n",
            "Epoch 96/100\n",
            "72/72 [==============================] - ETA: 0s - loss: 0.0454 - accuracy: 0.9833WARNING:tensorflow:Can save best model only with val_loss available, skipping.\n",
            "72/72 [==============================] - 4s 53ms/step - loss: 0.0454 - accuracy: 0.9833\n",
            "Epoch 97/100\n",
            "72/72 [==============================] - ETA: 0s - loss: 0.0155 - accuracy: 0.9944WARNING:tensorflow:Can save best model only with val_loss available, skipping.\n",
            "72/72 [==============================] - 4s 55ms/step - loss: 0.0155 - accuracy: 0.9944\n",
            "Epoch 98/100\n",
            "72/72 [==============================] - ETA: 0s - loss: 0.0618 - accuracy: 0.9805WARNING:tensorflow:Can save best model only with val_loss available, skipping.\n",
            "72/72 [==============================] - 4s 55ms/step - loss: 0.0618 - accuracy: 0.9805\n",
            "Epoch 99/100\n",
            "72/72 [==============================] - ETA: 0s - loss: 0.0769 - accuracy: 0.9805WARNING:tensorflow:Can save best model only with val_loss available, skipping.\n",
            "72/72 [==============================] - 4s 54ms/step - loss: 0.0769 - accuracy: 0.9805\n",
            "Epoch 100/100\n",
            "72/72 [==============================] - ETA: 0s - loss: 0.0333 - accuracy: 0.9944WARNING:tensorflow:Can save best model only with val_loss available, skipping.\n",
            "72/72 [==============================] - 4s 53ms/step - loss: 0.0333 - accuracy: 0.9944\n"
          ],
          "name": "stdout"
        }
      ]
    },
    {
      "cell_type": "code",
      "metadata": {
        "id": "o6O82lZQoVYR",
        "colab_type": "code",
        "colab": {}
      },
      "source": [
        "pred = model.predict(test_img)\n",
        "pred = np.argmax(pred, axis=1)\n",
        "test_data = pd.read_csv(\"/content/drive/My Drive/HackerEarth/IdentifyDanceForms/test.csv\")\n",
        "\n",
        "pred = encoder.inverse_transform(pred)\n",
        "result = pd.DataFrame(pred, test_data[\"Image\"], columns=[\"target\"])\n",
        "result.to_csv(\"sample2.csv\")"
      ],
      "execution_count": 0,
      "outputs": []
    },
    {
      "cell_type": "code",
      "metadata": {
        "id": "jTPjtUpToVVd",
        "colab_type": "code",
        "colab": {}
      },
      "source": [
        ""
      ],
      "execution_count": 0,
      "outputs": []
    },
    {
      "cell_type": "code",
      "metadata": {
        "id": "iqsXfzSkoVR0",
        "colab_type": "code",
        "colab": {}
      },
      "source": [
        ""
      ],
      "execution_count": 0,
      "outputs": []
    }
  ]
}