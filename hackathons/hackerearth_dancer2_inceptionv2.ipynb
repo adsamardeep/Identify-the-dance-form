{
  "nbformat": 4,
  "nbformat_minor": 0,
  "metadata": {
    "colab": {
      "name": "inceptionv2.ipynb",
      "provenance": [],
      "include_colab_link": true
    },
    "kernelspec": {
      "name": "python3",
      "display_name": "Python 3"
    },
    "accelerator": "GPU"
  },
  "cells": [
    {
      "cell_type": "markdown",
      "metadata": {
        "id": "view-in-github",
        "colab_type": "text"
      },
      "source": [
        "<a href=\"https://colab.research.google.com/github/adsamardeep/Identify-the-dance-form/blob/master/hackathons/hackerearth_dancer2_inceptionv2.ipynb\" target=\"_parent\"><img src=\"https://colab.research.google.com/assets/colab-badge.svg\" alt=\"Open In Colab\"/></a>"
      ]
    },
    {
      "cell_type": "code",
      "metadata": {
        "id": "UcTExjhrtlaC",
        "colab_type": "code",
        "colab": {
          "base_uri": "https://localhost:8080/",
          "height": 34
        },
        "outputId": "bf221562-d5d4-4256-a1b5-dbe81aac6c23"
      },
      "source": [
        "from google.colab import drive\n",
        "drive.mount('/content/drive')"
      ],
      "execution_count": 2,
      "outputs": [
        {
          "output_type": "stream",
          "text": [
            "Mounted at /content/drive\n"
          ],
          "name": "stdout"
        }
      ]
    },
    {
      "cell_type": "code",
      "metadata": {
        "id": "SoKTbv_k7kus",
        "colab_type": "code",
        "colab": {
          "base_uri": "https://localhost:8080/",
          "height": 34
        },
        "outputId": "69020f2f-bfa4-44b9-ace6-a0019d0a666d"
      },
      "source": [
        "import numpy as np \n",
        "import pandas as pd \n",
        "import cv2, pickle\n",
        "from PIL import Image \n",
        "import os\n",
        "import pathlib\n",
        "import matplotlib.pyplot as plt\n",
        "import tensorflow as tf\n",
        "import tensorflow_addons as tfa\n",
        "from tensorflow.keras.applications import InceptionResNetV2\n",
        "from sklearn.preprocessing import LabelEncoder\n",
        "from keras.utils import np_utils"
      ],
      "execution_count": 3,
      "outputs": [
        {
          "output_type": "stream",
          "text": [
            "Using TensorFlow backend.\n"
          ],
          "name": "stderr"
        }
      ]
    },
    {
      "cell_type": "code",
      "metadata": {
        "id": "0BQ0iyng8zFz",
        "colab_type": "code",
        "colab": {}
      },
      "source": [
        "train = pickle.load(open(\"/content/drive/My Drive/HackerEarth/IdentifyDanceForms/train.npy\",'rb'))\n",
        "test = pickle.load(open(\"/content/drive/My Drive/HackerEarth/IdentifyDanceForms/test.npy\",'rb'))\n",
        "train = np.array(train)\n",
        "test = np.array(test)\n",
        "train_data = pd.read_csv(\"/content/drive/My Drive/HackerEarth/IdentifyDanceForms/train.csv\")\n",
        "\n",
        "encoder = LabelEncoder()\n",
        "encoder.fit(train_data[\"target\"])\n",
        "encoded_Y = encoder.transform(train_data[\"target\"])\n",
        "y_labels = np_utils.to_categorical(encoded_Y)\n"
      ],
      "execution_count": 0,
      "outputs": []
    },
    {
      "cell_type": "code",
      "metadata": {
        "id": "Fo28q59m8zCb",
        "colab_type": "code",
        "colab": {}
      },
      "source": [
        "IMG_WIDTH=256\n",
        "IMG_HEIGHT=256\n",
        "BATCH_SIZE = 5"
      ],
      "execution_count": 0,
      "outputs": []
    },
    {
      "cell_type": "code",
      "metadata": {
        "id": "4IAC8oNl8zAX",
        "colab_type": "code",
        "outputId": "161fa188-6eac-44ef-b73b-e2b07ac7ddc4",
        "colab": {
          "base_uri": "https://localhost:8080/",
          "height": 71
        }
      },
      "source": [
        "from tensorflow.keras.models import Model\n",
        "import tensorflow.keras as keras\n",
        "\n",
        "resnet = InceptionResNetV2(include_top=False, weights='imagenet', input_shape=(IMG_HEIGHT,IMG_WIDTH,3),pooling='avg')\n",
        "\n",
        "output = resnet.layers[-1].output\n",
        "output = tf.keras.layers.Flatten()(output)\n",
        "resnet = Model(resnet.input, output)"
      ],
      "execution_count": 6,
      "outputs": [
        {
          "output_type": "stream",
          "text": [
            "Downloading data from https://storage.googleapis.com/tensorflow/keras-applications/inception_resnet_v2/inception_resnet_v2_weights_tf_dim_ordering_tf_kernels_notop.h5\n",
            "219062272/219055592 [==============================] - 4s 0us/step\n"
          ],
          "name": "stdout"
        }
      ]
    },
    {
      "cell_type": "code",
      "metadata": {
        "id": "evzsw4WP8y9I",
        "colab_type": "code",
        "colab": {}
      },
      "source": [
        "res_name = []\n",
        "for layer in resnet.layers:\n",
        "    res_name.append(layer.name)\n",
        "\n",
        "set_trainable = False\n",
        "for layer in resnet.layers:\n",
        "    if layer.name in res_name[-447:]:\n",
        "        set_trainable = True\n",
        "    if set_trainable:\n",
        "        layer.trainable = True\n",
        "    else:\n",
        "        layer.trainable = False"
      ],
      "execution_count": 0,
      "outputs": []
    },
    {
      "cell_type": "code",
      "metadata": {
        "id": "jIMyM93t-F_S",
        "colab_type": "code",
        "colab": {}
      },
      "source": [
        "from tensorflow.keras.models import Sequential\n",
        "from tensorflow.keras.layers import Dense, Flatten, GlobalAveragePooling2D, Dropout\n",
        "\n",
        "model = Sequential()\n",
        "model.add(resnet)\n",
        "model.add(Dense(1024, activation='relu'))\n",
        "model.add(Dropout(0.5))\n",
        "model.add(Dense(1024, activation='relu'))\n",
        "model.add(Dropout(0.4))\n",
        "model.add(Dense(8, activation='softmax'))\n",
        "\n",
        "\n",
        "adam = tf.keras.optimizers.Adam(learning_rate=0.0001)\n",
        "\n",
        "early_stop = tf.keras.callbacks.EarlyStopping(monitor='val_loss', patience=8,\n",
        "                                              restore_best_weights=False\n",
        "                                              )\n",
        "\n",
        "reduce_lr = tf.keras.callbacks.ReduceLROnPlateau(monitor='val_loss',\n",
        "                                   factor=0.2,\n",
        "                                   patience=4,\n",
        "                                   verbose=1,\n",
        "                                   min_delta=5*1e-3,min_lr = 5*1e-7,\n",
        "                                   )"
      ],
      "execution_count": 0,
      "outputs": []
    },
    {
      "cell_type": "code",
      "metadata": {
        "id": "KIuWSc8g-edj",
        "colab_type": "code",
        "colab": {}
      },
      "source": [
        "model.compile(optimizer = adam, \n",
        "              loss = 'categorical_crossentropy', \n",
        "              metrics=['accuracy',tfa.metrics.F1Score(num_classes=8)])"
      ],
      "execution_count": 0,
      "outputs": []
    },
    {
      "cell_type": "code",
      "metadata": {
        "id": "JxJC6FK8-n12",
        "colab_type": "code",
        "outputId": "35735fe4-d36b-4bb1-985a-8bd5711cfe3a",
        "colab": {
          "base_uri": "https://localhost:8080/",
          "height": 1000
        }
      },
      "source": [
        "model.fit(train, y_labels,steps_per_epoch=np.ceil(float(train.shape[0]) / float(BATCH_SIZE)),\n",
        "                        epochs = 50,callbacks=[early_stop,reduce_lr])"
      ],
      "execution_count": 10,
      "outputs": [
        {
          "output_type": "stream",
          "text": [
            "Epoch 1/50\n",
            "WARNING:tensorflow:Model was constructed with shape (None, 256, 256, 3) for input Tensor(\"model_input:0\", shape=(None, 256, 256, 3), dtype=float32), but it was called on an input with incompatible shape (None, 224, 224, 3).\n",
            "WARNING:tensorflow:Model was constructed with shape (None, 256, 256, 3) for input Tensor(\"input_1:0\", shape=(None, 256, 256, 3), dtype=float32), but it was called on an input with incompatible shape (None, 224, 224, 3).\n",
            "WARNING:tensorflow:Model was constructed with shape (None, 256, 256, 3) for input Tensor(\"model_input:0\", shape=(None, 256, 256, 3), dtype=float32), but it was called on an input with incompatible shape (None, 224, 224, 3).\n",
            "WARNING:tensorflow:Model was constructed with shape (None, 256, 256, 3) for input Tensor(\"input_1:0\", shape=(None, 256, 256, 3), dtype=float32), but it was called on an input with incompatible shape (None, 224, 224, 3).\n",
            "73/73 [==============================] - ETA: 0s - loss: 2.2323 - accuracy: 0.1291 - f1_score: 0.1275WARNING:tensorflow:Early stopping conditioned on metric `val_loss` which is not available. Available metrics are: loss,accuracy,f1_score\n",
            "WARNING:tensorflow:Reduce LR on plateau conditioned on metric `val_loss` which is not available. Available metrics are: loss,accuracy,f1_score,lr\n",
            "73/73 [==============================] - 12s 162ms/step - loss: 2.2323 - accuracy: 0.1291 - f1_score: 0.1275 - lr: 1.0000e-04\n",
            "Epoch 2/50\n",
            "73/73 [==============================] - ETA: 0s - loss: 2.2128 - accuracy: 0.1456 - f1_score: 0.1390WARNING:tensorflow:Early stopping conditioned on metric `val_loss` which is not available. Available metrics are: loss,accuracy,f1_score\n",
            "WARNING:tensorflow:Reduce LR on plateau conditioned on metric `val_loss` which is not available. Available metrics are: loss,accuracy,f1_score,lr\n",
            "73/73 [==============================] - 11s 153ms/step - loss: 2.2128 - accuracy: 0.1456 - f1_score: 0.1390 - lr: 1.0000e-04\n",
            "Epoch 3/50\n",
            "73/73 [==============================] - ETA: 0s - loss: 2.1600 - accuracy: 0.1951 - f1_score: 0.1764WARNING:tensorflow:Early stopping conditioned on metric `val_loss` which is not available. Available metrics are: loss,accuracy,f1_score\n",
            "WARNING:tensorflow:Reduce LR on plateau conditioned on metric `val_loss` which is not available. Available metrics are: loss,accuracy,f1_score,lr\n",
            "73/73 [==============================] - 11s 153ms/step - loss: 2.1600 - accuracy: 0.1951 - f1_score: 0.1764 - lr: 1.0000e-04\n",
            "Epoch 4/50\n",
            "73/73 [==============================] - ETA: 0s - loss: 2.1387 - accuracy: 0.1841 - f1_score: 0.1876WARNING:tensorflow:Early stopping conditioned on metric `val_loss` which is not available. Available metrics are: loss,accuracy,f1_score\n",
            "WARNING:tensorflow:Reduce LR on plateau conditioned on metric `val_loss` which is not available. Available metrics are: loss,accuracy,f1_score,lr\n",
            "73/73 [==============================] - 11s 154ms/step - loss: 2.1387 - accuracy: 0.1841 - f1_score: 0.1876 - lr: 1.0000e-04\n",
            "Epoch 5/50\n",
            "73/73 [==============================] - ETA: 0s - loss: 2.0472 - accuracy: 0.2253 - f1_score: 0.2168WARNING:tensorflow:Early stopping conditioned on metric `val_loss` which is not available. Available metrics are: loss,accuracy,f1_score\n",
            "WARNING:tensorflow:Reduce LR on plateau conditioned on metric `val_loss` which is not available. Available metrics are: loss,accuracy,f1_score,lr\n",
            "73/73 [==============================] - 11s 154ms/step - loss: 2.0472 - accuracy: 0.2253 - f1_score: 0.2168 - lr: 1.0000e-04\n",
            "Epoch 6/50\n",
            "73/73 [==============================] - ETA: 0s - loss: 2.1519 - accuracy: 0.2033 - f1_score: 0.1967WARNING:tensorflow:Early stopping conditioned on metric `val_loss` which is not available. Available metrics are: loss,accuracy,f1_score\n",
            "WARNING:tensorflow:Reduce LR on plateau conditioned on metric `val_loss` which is not available. Available metrics are: loss,accuracy,f1_score,lr\n",
            "73/73 [==============================] - 11s 154ms/step - loss: 2.1519 - accuracy: 0.2033 - f1_score: 0.1967 - lr: 1.0000e-04\n",
            "Epoch 7/50\n",
            "73/73 [==============================] - ETA: 0s - loss: 2.1503 - accuracy: 0.1731 - f1_score: 0.1660WARNING:tensorflow:Early stopping conditioned on metric `val_loss` which is not available. Available metrics are: loss,accuracy,f1_score\n",
            "WARNING:tensorflow:Reduce LR on plateau conditioned on metric `val_loss` which is not available. Available metrics are: loss,accuracy,f1_score,lr\n",
            "73/73 [==============================] - 11s 154ms/step - loss: 2.1503 - accuracy: 0.1731 - f1_score: 0.1660 - lr: 1.0000e-04\n",
            "Epoch 8/50\n",
            "73/73 [==============================] - ETA: 0s - loss: 2.0347 - accuracy: 0.1978 - f1_score: 0.1877WARNING:tensorflow:Early stopping conditioned on metric `val_loss` which is not available. Available metrics are: loss,accuracy,f1_score\n",
            "WARNING:tensorflow:Reduce LR on plateau conditioned on metric `val_loss` which is not available. Available metrics are: loss,accuracy,f1_score,lr\n",
            "73/73 [==============================] - 11s 153ms/step - loss: 2.0347 - accuracy: 0.1978 - f1_score: 0.1877 - lr: 1.0000e-04\n",
            "Epoch 9/50\n",
            "73/73 [==============================] - ETA: 0s - loss: 2.0397 - accuracy: 0.2390 - f1_score: 0.2297WARNING:tensorflow:Early stopping conditioned on metric `val_loss` which is not available. Available metrics are: loss,accuracy,f1_score\n",
            "WARNING:tensorflow:Reduce LR on plateau conditioned on metric `val_loss` which is not available. Available metrics are: loss,accuracy,f1_score,lr\n",
            "73/73 [==============================] - 11s 153ms/step - loss: 2.0397 - accuracy: 0.2390 - f1_score: 0.2297 - lr: 1.0000e-04\n",
            "Epoch 10/50\n",
            "73/73 [==============================] - ETA: 0s - loss: 1.9375 - accuracy: 0.2555 - f1_score: 0.2469WARNING:tensorflow:Early stopping conditioned on metric `val_loss` which is not available. Available metrics are: loss,accuracy,f1_score\n",
            "WARNING:tensorflow:Reduce LR on plateau conditioned on metric `val_loss` which is not available. Available metrics are: loss,accuracy,f1_score,lr\n",
            "73/73 [==============================] - 11s 153ms/step - loss: 1.9375 - accuracy: 0.2555 - f1_score: 0.2469 - lr: 1.0000e-04\n",
            "Epoch 11/50\n",
            "73/73 [==============================] - ETA: 0s - loss: 2.0194 - accuracy: 0.2088 - f1_score: 0.1976WARNING:tensorflow:Early stopping conditioned on metric `val_loss` which is not available. Available metrics are: loss,accuracy,f1_score\n",
            "WARNING:tensorflow:Reduce LR on plateau conditioned on metric `val_loss` which is not available. Available metrics are: loss,accuracy,f1_score,lr\n",
            "73/73 [==============================] - 11s 153ms/step - loss: 2.0194 - accuracy: 0.2088 - f1_score: 0.1976 - lr: 1.0000e-04\n",
            "Epoch 12/50\n",
            "73/73 [==============================] - ETA: 0s - loss: 1.9558 - accuracy: 0.2445 - f1_score: 0.2258WARNING:tensorflow:Early stopping conditioned on metric `val_loss` which is not available. Available metrics are: loss,accuracy,f1_score\n",
            "WARNING:tensorflow:Reduce LR on plateau conditioned on metric `val_loss` which is not available. Available metrics are: loss,accuracy,f1_score,lr\n",
            "73/73 [==============================] - 11s 153ms/step - loss: 1.9558 - accuracy: 0.2445 - f1_score: 0.2258 - lr: 1.0000e-04\n",
            "Epoch 13/50\n",
            "73/73 [==============================] - ETA: 0s - loss: 1.9909 - accuracy: 0.2225 - f1_score: 0.2133WARNING:tensorflow:Early stopping conditioned on metric `val_loss` which is not available. Available metrics are: loss,accuracy,f1_score\n",
            "WARNING:tensorflow:Reduce LR on plateau conditioned on metric `val_loss` which is not available. Available metrics are: loss,accuracy,f1_score,lr\n",
            "73/73 [==============================] - 11s 153ms/step - loss: 1.9909 - accuracy: 0.2225 - f1_score: 0.2133 - lr: 1.0000e-04\n",
            "Epoch 14/50\n",
            "73/73 [==============================] - ETA: 0s - loss: 1.9590 - accuracy: 0.2555 - f1_score: 0.2365WARNING:tensorflow:Early stopping conditioned on metric `val_loss` which is not available. Available metrics are: loss,accuracy,f1_score\n",
            "WARNING:tensorflow:Reduce LR on plateau conditioned on metric `val_loss` which is not available. Available metrics are: loss,accuracy,f1_score,lr\n",
            "73/73 [==============================] - 11s 154ms/step - loss: 1.9590 - accuracy: 0.2555 - f1_score: 0.2365 - lr: 1.0000e-04\n",
            "Epoch 15/50\n",
            "73/73 [==============================] - ETA: 0s - loss: 1.9174 - accuracy: 0.2335 - f1_score: 0.2140WARNING:tensorflow:Early stopping conditioned on metric `val_loss` which is not available. Available metrics are: loss,accuracy,f1_score\n",
            "WARNING:tensorflow:Reduce LR on plateau conditioned on metric `val_loss` which is not available. Available metrics are: loss,accuracy,f1_score,lr\n",
            "73/73 [==============================] - 11s 153ms/step - loss: 1.9174 - accuracy: 0.2335 - f1_score: 0.2140 - lr: 1.0000e-04\n",
            "Epoch 16/50\n",
            "73/73 [==============================] - ETA: 0s - loss: 1.9159 - accuracy: 0.2802 - f1_score: 0.2606WARNING:tensorflow:Early stopping conditioned on metric `val_loss` which is not available. Available metrics are: loss,accuracy,f1_score\n",
            "WARNING:tensorflow:Reduce LR on plateau conditioned on metric `val_loss` which is not available. Available metrics are: loss,accuracy,f1_score,lr\n",
            "73/73 [==============================] - 11s 153ms/step - loss: 1.9159 - accuracy: 0.2802 - f1_score: 0.2606 - lr: 1.0000e-04\n",
            "Epoch 17/50\n",
            "73/73 [==============================] - ETA: 0s - loss: 1.9230 - accuracy: 0.2747 - f1_score: 0.2637WARNING:tensorflow:Early stopping conditioned on metric `val_loss` which is not available. Available metrics are: loss,accuracy,f1_score\n",
            "WARNING:tensorflow:Reduce LR on plateau conditioned on metric `val_loss` which is not available. Available metrics are: loss,accuracy,f1_score,lr\n",
            "73/73 [==============================] - 11s 153ms/step - loss: 1.9230 - accuracy: 0.2747 - f1_score: 0.2637 - lr: 1.0000e-04\n",
            "Epoch 18/50\n",
            "73/73 [==============================] - ETA: 0s - loss: 1.9141 - accuracy: 0.2692 - f1_score: 0.2356WARNING:tensorflow:Early stopping conditioned on metric `val_loss` which is not available. Available metrics are: loss,accuracy,f1_score\n",
            "WARNING:tensorflow:Reduce LR on plateau conditioned on metric `val_loss` which is not available. Available metrics are: loss,accuracy,f1_score,lr\n",
            "73/73 [==============================] - 11s 153ms/step - loss: 1.9141 - accuracy: 0.2692 - f1_score: 0.2356 - lr: 1.0000e-04\n",
            "Epoch 19/50\n",
            "73/73 [==============================] - ETA: 0s - loss: 1.8946 - accuracy: 0.2555 - f1_score: 0.2394WARNING:tensorflow:Early stopping conditioned on metric `val_loss` which is not available. Available metrics are: loss,accuracy,f1_score\n",
            "WARNING:tensorflow:Reduce LR on plateau conditioned on metric `val_loss` which is not available. Available metrics are: loss,accuracy,f1_score,lr\n",
            "73/73 [==============================] - 11s 153ms/step - loss: 1.8946 - accuracy: 0.2555 - f1_score: 0.2394 - lr: 1.0000e-04\n",
            "Epoch 20/50\n",
            "73/73 [==============================] - ETA: 0s - loss: 1.8935 - accuracy: 0.2500 - f1_score: 0.2314WARNING:tensorflow:Early stopping conditioned on metric `val_loss` which is not available. Available metrics are: loss,accuracy,f1_score\n",
            "WARNING:tensorflow:Reduce LR on plateau conditioned on metric `val_loss` which is not available. Available metrics are: loss,accuracy,f1_score,lr\n",
            "73/73 [==============================] - 11s 151ms/step - loss: 1.8935 - accuracy: 0.2500 - f1_score: 0.2314 - lr: 1.0000e-04\n",
            "Epoch 21/50\n",
            "73/73 [==============================] - ETA: 0s - loss: 1.9117 - accuracy: 0.2720 - f1_score: 0.2567WARNING:tensorflow:Early stopping conditioned on metric `val_loss` which is not available. Available metrics are: loss,accuracy,f1_score\n",
            "WARNING:tensorflow:Reduce LR on plateau conditioned on metric `val_loss` which is not available. Available metrics are: loss,accuracy,f1_score,lr\n",
            "73/73 [==============================] - 11s 151ms/step - loss: 1.9117 - accuracy: 0.2720 - f1_score: 0.2567 - lr: 1.0000e-04\n",
            "Epoch 22/50\n",
            "73/73 [==============================] - ETA: 0s - loss: 1.8279 - accuracy: 0.2912 - f1_score: 0.2730WARNING:tensorflow:Early stopping conditioned on metric `val_loss` which is not available. Available metrics are: loss,accuracy,f1_score\n",
            "WARNING:tensorflow:Reduce LR on plateau conditioned on metric `val_loss` which is not available. Available metrics are: loss,accuracy,f1_score,lr\n",
            "73/73 [==============================] - 11s 153ms/step - loss: 1.8279 - accuracy: 0.2912 - f1_score: 0.2730 - lr: 1.0000e-04\n",
            "Epoch 23/50\n",
            "73/73 [==============================] - ETA: 0s - loss: 1.8339 - accuracy: 0.2940 - f1_score: 0.2754WARNING:tensorflow:Early stopping conditioned on metric `val_loss` which is not available. Available metrics are: loss,accuracy,f1_score\n",
            "WARNING:tensorflow:Reduce LR on plateau conditioned on metric `val_loss` which is not available. Available metrics are: loss,accuracy,f1_score,lr\n",
            "73/73 [==============================] - 11s 151ms/step - loss: 1.8339 - accuracy: 0.2940 - f1_score: 0.2754 - lr: 1.0000e-04\n",
            "Epoch 24/50\n",
            "73/73 [==============================] - ETA: 0s - loss: 1.7602 - accuracy: 0.3297 - f1_score: 0.3152WARNING:tensorflow:Early stopping conditioned on metric `val_loss` which is not available. Available metrics are: loss,accuracy,f1_score\n",
            "WARNING:tensorflow:Reduce LR on plateau conditioned on metric `val_loss` which is not available. Available metrics are: loss,accuracy,f1_score,lr\n",
            "73/73 [==============================] - 11s 151ms/step - loss: 1.7602 - accuracy: 0.3297 - f1_score: 0.3152 - lr: 1.0000e-04\n",
            "Epoch 25/50\n",
            "73/73 [==============================] - ETA: 0s - loss: 1.7750 - accuracy: 0.2967 - f1_score: 0.2852WARNING:tensorflow:Early stopping conditioned on metric `val_loss` which is not available. Available metrics are: loss,accuracy,f1_score\n",
            "WARNING:tensorflow:Reduce LR on plateau conditioned on metric `val_loss` which is not available. Available metrics are: loss,accuracy,f1_score,lr\n",
            "73/73 [==============================] - 11s 151ms/step - loss: 1.7750 - accuracy: 0.2967 - f1_score: 0.2852 - lr: 1.0000e-04\n",
            "Epoch 26/50\n",
            "73/73 [==============================] - ETA: 0s - loss: 1.7561 - accuracy: 0.3077 - f1_score: 0.2930WARNING:tensorflow:Early stopping conditioned on metric `val_loss` which is not available. Available metrics are: loss,accuracy,f1_score\n",
            "WARNING:tensorflow:Reduce LR on plateau conditioned on metric `val_loss` which is not available. Available metrics are: loss,accuracy,f1_score,lr\n",
            "73/73 [==============================] - 11s 151ms/step - loss: 1.7561 - accuracy: 0.3077 - f1_score: 0.2930 - lr: 1.0000e-04\n",
            "Epoch 27/50\n",
            "73/73 [==============================] - ETA: 0s - loss: 1.7753 - accuracy: 0.2995 - f1_score: 0.2850WARNING:tensorflow:Early stopping conditioned on metric `val_loss` which is not available. Available metrics are: loss,accuracy,f1_score\n",
            "WARNING:tensorflow:Reduce LR on plateau conditioned on metric `val_loss` which is not available. Available metrics are: loss,accuracy,f1_score,lr\n",
            "73/73 [==============================] - 11s 151ms/step - loss: 1.7753 - accuracy: 0.2995 - f1_score: 0.2850 - lr: 1.0000e-04\n",
            "Epoch 28/50\n",
            "73/73 [==============================] - ETA: 0s - loss: 1.8254 - accuracy: 0.3077 - f1_score: 0.2979WARNING:tensorflow:Early stopping conditioned on metric `val_loss` which is not available. Available metrics are: loss,accuracy,f1_score\n",
            "WARNING:tensorflow:Reduce LR on plateau conditioned on metric `val_loss` which is not available. Available metrics are: loss,accuracy,f1_score,lr\n",
            "73/73 [==============================] - 11s 151ms/step - loss: 1.8254 - accuracy: 0.3077 - f1_score: 0.2979 - lr: 1.0000e-04\n",
            "Epoch 29/50\n",
            "73/73 [==============================] - ETA: 0s - loss: 1.7315 - accuracy: 0.3104 - f1_score: 0.2901WARNING:tensorflow:Early stopping conditioned on metric `val_loss` which is not available. Available metrics are: loss,accuracy,f1_score\n",
            "WARNING:tensorflow:Reduce LR on plateau conditioned on metric `val_loss` which is not available. Available metrics are: loss,accuracy,f1_score,lr\n",
            "73/73 [==============================] - 11s 151ms/step - loss: 1.7315 - accuracy: 0.3104 - f1_score: 0.2901 - lr: 1.0000e-04\n",
            "Epoch 30/50\n",
            "73/73 [==============================] - ETA: 0s - loss: 1.6838 - accuracy: 0.3159 - f1_score: 0.3010WARNING:tensorflow:Early stopping conditioned on metric `val_loss` which is not available. Available metrics are: loss,accuracy,f1_score\n",
            "WARNING:tensorflow:Reduce LR on plateau conditioned on metric `val_loss` which is not available. Available metrics are: loss,accuracy,f1_score,lr\n",
            "73/73 [==============================] - 11s 151ms/step - loss: 1.6838 - accuracy: 0.3159 - f1_score: 0.3010 - lr: 1.0000e-04\n",
            "Epoch 31/50\n",
            "73/73 [==============================] - ETA: 0s - loss: 1.7682 - accuracy: 0.3214 - f1_score: 0.3093WARNING:tensorflow:Early stopping conditioned on metric `val_loss` which is not available. Available metrics are: loss,accuracy,f1_score\n",
            "WARNING:tensorflow:Reduce LR on plateau conditioned on metric `val_loss` which is not available. Available metrics are: loss,accuracy,f1_score,lr\n",
            "73/73 [==============================] - 11s 151ms/step - loss: 1.7682 - accuracy: 0.3214 - f1_score: 0.3093 - lr: 1.0000e-04\n",
            "Epoch 32/50\n",
            "73/73 [==============================] - ETA: 0s - loss: 1.8046 - accuracy: 0.3187 - f1_score: 0.3143WARNING:tensorflow:Early stopping conditioned on metric `val_loss` which is not available. Available metrics are: loss,accuracy,f1_score\n",
            "WARNING:tensorflow:Reduce LR on plateau conditioned on metric `val_loss` which is not available. Available metrics are: loss,accuracy,f1_score,lr\n",
            "73/73 [==============================] - 11s 152ms/step - loss: 1.8046 - accuracy: 0.3187 - f1_score: 0.3143 - lr: 1.0000e-04\n",
            "Epoch 33/50\n",
            "73/73 [==============================] - ETA: 0s - loss: 1.7150 - accuracy: 0.3324 - f1_score: 0.3228WARNING:tensorflow:Early stopping conditioned on metric `val_loss` which is not available. Available metrics are: loss,accuracy,f1_score\n",
            "WARNING:tensorflow:Reduce LR on plateau conditioned on metric `val_loss` which is not available. Available metrics are: loss,accuracy,f1_score,lr\n",
            "73/73 [==============================] - 11s 154ms/step - loss: 1.7150 - accuracy: 0.3324 - f1_score: 0.3228 - lr: 1.0000e-04\n",
            "Epoch 34/50\n",
            "73/73 [==============================] - ETA: 0s - loss: 1.6057 - accuracy: 0.4038 - f1_score: 0.3961WARNING:tensorflow:Early stopping conditioned on metric `val_loss` which is not available. Available metrics are: loss,accuracy,f1_score\n",
            "WARNING:tensorflow:Reduce LR on plateau conditioned on metric `val_loss` which is not available. Available metrics are: loss,accuracy,f1_score,lr\n",
            "73/73 [==============================] - 11s 153ms/step - loss: 1.6057 - accuracy: 0.4038 - f1_score: 0.3961 - lr: 1.0000e-04\n",
            "Epoch 35/50\n",
            "73/73 [==============================] - ETA: 0s - loss: 1.5894 - accuracy: 0.3764 - f1_score: 0.3649WARNING:tensorflow:Early stopping conditioned on metric `val_loss` which is not available. Available metrics are: loss,accuracy,f1_score\n",
            "WARNING:tensorflow:Reduce LR on plateau conditioned on metric `val_loss` which is not available. Available metrics are: loss,accuracy,f1_score,lr\n",
            "73/73 [==============================] - 11s 154ms/step - loss: 1.5894 - accuracy: 0.3764 - f1_score: 0.3649 - lr: 1.0000e-04\n",
            "Epoch 36/50\n",
            "73/73 [==============================] - ETA: 0s - loss: 1.6380 - accuracy: 0.3489 - f1_score: 0.3472WARNING:tensorflow:Early stopping conditioned on metric `val_loss` which is not available. Available metrics are: loss,accuracy,f1_score\n",
            "WARNING:tensorflow:Reduce LR on plateau conditioned on metric `val_loss` which is not available. Available metrics are: loss,accuracy,f1_score,lr\n",
            "73/73 [==============================] - 11s 154ms/step - loss: 1.6380 - accuracy: 0.3489 - f1_score: 0.3472 - lr: 1.0000e-04\n",
            "Epoch 37/50\n",
            "73/73 [==============================] - ETA: 0s - loss: 1.5819 - accuracy: 0.4011 - f1_score: 0.3870WARNING:tensorflow:Early stopping conditioned on metric `val_loss` which is not available. Available metrics are: loss,accuracy,f1_score\n",
            "WARNING:tensorflow:Reduce LR on plateau conditioned on metric `val_loss` which is not available. Available metrics are: loss,accuracy,f1_score,lr\n",
            "73/73 [==============================] - 11s 154ms/step - loss: 1.5819 - accuracy: 0.4011 - f1_score: 0.3870 - lr: 1.0000e-04\n",
            "Epoch 38/50\n",
            "73/73 [==============================] - ETA: 0s - loss: 1.6337 - accuracy: 0.3599 - f1_score: 0.3485WARNING:tensorflow:Early stopping conditioned on metric `val_loss` which is not available. Available metrics are: loss,accuracy,f1_score\n",
            "WARNING:tensorflow:Reduce LR on plateau conditioned on metric `val_loss` which is not available. Available metrics are: loss,accuracy,f1_score,lr\n",
            "73/73 [==============================] - 11s 154ms/step - loss: 1.6337 - accuracy: 0.3599 - f1_score: 0.3485 - lr: 1.0000e-04\n",
            "Epoch 39/50\n",
            "73/73 [==============================] - ETA: 0s - loss: 1.6230 - accuracy: 0.3764 - f1_score: 0.3707WARNING:tensorflow:Early stopping conditioned on metric `val_loss` which is not available. Available metrics are: loss,accuracy,f1_score\n",
            "WARNING:tensorflow:Reduce LR on plateau conditioned on metric `val_loss` which is not available. Available metrics are: loss,accuracy,f1_score,lr\n",
            "73/73 [==============================] - 11s 154ms/step - loss: 1.6230 - accuracy: 0.3764 - f1_score: 0.3707 - lr: 1.0000e-04\n",
            "Epoch 40/50\n",
            "73/73 [==============================] - ETA: 0s - loss: 1.5690 - accuracy: 0.3846 - f1_score: 0.3740WARNING:tensorflow:Early stopping conditioned on metric `val_loss` which is not available. Available metrics are: loss,accuracy,f1_score\n",
            "WARNING:tensorflow:Reduce LR on plateau conditioned on metric `val_loss` which is not available. Available metrics are: loss,accuracy,f1_score,lr\n",
            "73/73 [==============================] - 11s 153ms/step - loss: 1.5690 - accuracy: 0.3846 - f1_score: 0.3740 - lr: 1.0000e-04\n",
            "Epoch 41/50\n",
            "73/73 [==============================] - ETA: 0s - loss: 1.5726 - accuracy: 0.3874 - f1_score: 0.3768WARNING:tensorflow:Early stopping conditioned on metric `val_loss` which is not available. Available metrics are: loss,accuracy,f1_score\n",
            "WARNING:tensorflow:Reduce LR on plateau conditioned on metric `val_loss` which is not available. Available metrics are: loss,accuracy,f1_score,lr\n",
            "73/73 [==============================] - 11s 153ms/step - loss: 1.5726 - accuracy: 0.3874 - f1_score: 0.3768 - lr: 1.0000e-04\n",
            "Epoch 42/50\n",
            "73/73 [==============================] - ETA: 0s - loss: 1.4606 - accuracy: 0.4368 - f1_score: 0.4355WARNING:tensorflow:Early stopping conditioned on metric `val_loss` which is not available. Available metrics are: loss,accuracy,f1_score\n",
            "WARNING:tensorflow:Reduce LR on plateau conditioned on metric `val_loss` which is not available. Available metrics are: loss,accuracy,f1_score,lr\n",
            "73/73 [==============================] - 11s 153ms/step - loss: 1.4606 - accuracy: 0.4368 - f1_score: 0.4355 - lr: 1.0000e-04\n",
            "Epoch 43/50\n",
            "73/73 [==============================] - ETA: 0s - loss: 1.4809 - accuracy: 0.4478 - f1_score: 0.4473WARNING:tensorflow:Early stopping conditioned on metric `val_loss` which is not available. Available metrics are: loss,accuracy,f1_score\n",
            "WARNING:tensorflow:Reduce LR on plateau conditioned on metric `val_loss` which is not available. Available metrics are: loss,accuracy,f1_score,lr\n",
            "73/73 [==============================] - 11s 154ms/step - loss: 1.4809 - accuracy: 0.4478 - f1_score: 0.4473 - lr: 1.0000e-04\n",
            "Epoch 44/50\n",
            "73/73 [==============================] - ETA: 0s - loss: 1.4279 - accuracy: 0.4258 - f1_score: 0.4136WARNING:tensorflow:Early stopping conditioned on metric `val_loss` which is not available. Available metrics are: loss,accuracy,f1_score\n",
            "WARNING:tensorflow:Reduce LR on plateau conditioned on metric `val_loss` which is not available. Available metrics are: loss,accuracy,f1_score,lr\n",
            "73/73 [==============================] - 11s 153ms/step - loss: 1.4279 - accuracy: 0.4258 - f1_score: 0.4136 - lr: 1.0000e-04\n",
            "Epoch 45/50\n",
            "73/73 [==============================] - ETA: 0s - loss: 1.4676 - accuracy: 0.4451 - f1_score: 0.4427WARNING:tensorflow:Early stopping conditioned on metric `val_loss` which is not available. Available metrics are: loss,accuracy,f1_score\n",
            "WARNING:tensorflow:Reduce LR on plateau conditioned on metric `val_loss` which is not available. Available metrics are: loss,accuracy,f1_score,lr\n",
            "73/73 [==============================] - 11s 154ms/step - loss: 1.4676 - accuracy: 0.4451 - f1_score: 0.4427 - lr: 1.0000e-04\n",
            "Epoch 46/50\n",
            "73/73 [==============================] - ETA: 0s - loss: 1.3523 - accuracy: 0.4615 - f1_score: 0.4532WARNING:tensorflow:Early stopping conditioned on metric `val_loss` which is not available. Available metrics are: loss,accuracy,f1_score\n",
            "WARNING:tensorflow:Reduce LR on plateau conditioned on metric `val_loss` which is not available. Available metrics are: loss,accuracy,f1_score,lr\n",
            "73/73 [==============================] - 11s 154ms/step - loss: 1.3523 - accuracy: 0.4615 - f1_score: 0.4532 - lr: 1.0000e-04\n",
            "Epoch 47/50\n",
            "73/73 [==============================] - ETA: 0s - loss: 1.4224 - accuracy: 0.4313 - f1_score: 0.4224WARNING:tensorflow:Early stopping conditioned on metric `val_loss` which is not available. Available metrics are: loss,accuracy,f1_score\n",
            "WARNING:tensorflow:Reduce LR on plateau conditioned on metric `val_loss` which is not available. Available metrics are: loss,accuracy,f1_score,lr\n",
            "73/73 [==============================] - 11s 154ms/step - loss: 1.4224 - accuracy: 0.4313 - f1_score: 0.4224 - lr: 1.0000e-04\n",
            "Epoch 48/50\n",
            "73/73 [==============================] - ETA: 0s - loss: 1.3586 - accuracy: 0.5137 - f1_score: 0.5077WARNING:tensorflow:Early stopping conditioned on metric `val_loss` which is not available. Available metrics are: loss,accuracy,f1_score\n",
            "WARNING:tensorflow:Reduce LR on plateau conditioned on metric `val_loss` which is not available. Available metrics are: loss,accuracy,f1_score,lr\n",
            "73/73 [==============================] - 11s 153ms/step - loss: 1.3586 - accuracy: 0.5137 - f1_score: 0.5077 - lr: 1.0000e-04\n",
            "Epoch 49/50\n",
            "73/73 [==============================] - ETA: 0s - loss: 1.3030 - accuracy: 0.5082 - f1_score: 0.5023WARNING:tensorflow:Early stopping conditioned on metric `val_loss` which is not available. Available metrics are: loss,accuracy,f1_score\n",
            "WARNING:tensorflow:Reduce LR on plateau conditioned on metric `val_loss` which is not available. Available metrics are: loss,accuracy,f1_score,lr\n",
            "73/73 [==============================] - 11s 153ms/step - loss: 1.3030 - accuracy: 0.5082 - f1_score: 0.5023 - lr: 1.0000e-04\n",
            "Epoch 50/50\n",
            "73/73 [==============================] - ETA: 0s - loss: 1.3552 - accuracy: 0.4973 - f1_score: 0.4926WARNING:tensorflow:Early stopping conditioned on metric `val_loss` which is not available. Available metrics are: loss,accuracy,f1_score\n",
            "WARNING:tensorflow:Reduce LR on plateau conditioned on metric `val_loss` which is not available. Available metrics are: loss,accuracy,f1_score,lr\n",
            "73/73 [==============================] - 11s 154ms/step - loss: 1.3552 - accuracy: 0.4973 - f1_score: 0.4926 - lr: 1.0000e-04\n"
          ],
          "name": "stdout"
        },
        {
          "output_type": "execute_result",
          "data": {
            "text/plain": [
              "<tensorflow.python.keras.callbacks.History at 0x7f5d4bb9a240>"
            ]
          },
          "metadata": {
            "tags": []
          },
          "execution_count": 10
        }
      ]
    },
    {
      "cell_type": "code",
      "metadata": {
        "id": "M_4aXcDp-w4y",
        "colab_type": "code",
        "colab": {
          "base_uri": "https://localhost:8080/",
          "height": 71
        },
        "outputId": "56cb7385-9488-4061-f87f-febf69bfda91"
      },
      "source": [
        "pred = model.predict(test)\n",
        "pred = np.argmax(pred, axis=1)\n",
        "test_data = pd.read_csv(\"/content/drive/My Drive/HackerEarth/IdentifyDanceForms/test.csv\")\n",
        "\n",
        "pred = encoder.inverse_transform(pred)\n",
        "result = pd.DataFrame(pred, test_data[\"Image\"], columns=[\"target\"])\n",
        "result.to_csv(\"sample3.csv\")"
      ],
      "execution_count": 11,
      "outputs": [
        {
          "output_type": "stream",
          "text": [
            "WARNING:tensorflow:Model was constructed with shape (None, 256, 256, 3) for input Tensor(\"model_input:0\", shape=(None, 256, 256, 3), dtype=float32), but it was called on an input with incompatible shape (None, 224, 224, 3).\n",
            "WARNING:tensorflow:Model was constructed with shape (None, 256, 256, 3) for input Tensor(\"input_1:0\", shape=(None, 256, 256, 3), dtype=float32), but it was called on an input with incompatible shape (None, 224, 224, 3).\n"
          ],
          "name": "stdout"
        }
      ]
    },
    {
      "cell_type": "code",
      "metadata": {
        "id": "7eRLYxB4-0jg",
        "colab_type": "code",
        "colab": {}
      },
      "source": [
        ""
      ],
      "execution_count": 0,
      "outputs": []
    }
  ]
}